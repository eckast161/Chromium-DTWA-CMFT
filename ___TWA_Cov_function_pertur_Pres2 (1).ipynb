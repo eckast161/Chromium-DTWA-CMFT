{
 "cells": [
  {
   "cell_type": "code",
   "execution_count": 1,
   "metadata": {},
   "outputs": [],
   "source": [
    "import numpy as np\n",
    "from numpy import cos, sin\n",
    "from numpy import sqrt\n",
    "import time\n",
    "from scipy.sparse.linalg import expm\n",
    "import pandas as pd\n",
    "\n",
    "label_size = 20\n",
    "\n",
    "\n",
    "# In[2]:\n",
    "\n",
    "\n",
    "\n",
    "import numpy as np\n",
    "#from google.colab import files\n",
    "\n",
    "\"\"\"In order to provide a better presentation of the graphs we use the rcParams options shown below.\"\"\"\n",
    "\n",
    "\n",
    "from numpy import cos, sin\n",
    "\n",
    "label_size = 20\n",
    "\n",
    "from numpy import sqrt\n",
    "\n",
    "import time\n",
    "from numpy import sin, cos\n",
    "\n",
    "T0=time.time()\n",
    "\n",
    "\n",
    "# In[3]:\n",
    "\n",
    "\n",
    "\n",
    "from numpy import random, zeros, sqrt,cos,sin\n",
    "\n",
    "import numpy as np\n",
    "\n",
    "import numbers\n",
    "\n",
    "from numpy import sqrt, zeros, diag, random, real, array, complex_, transpose, conjugate, exp, matmul, real\n",
    "\n",
    "\n",
    "\n",
    "from scipy.linalg import norm\n",
    "from numpy import dot\n",
    "\n",
    "from numpy import pi as pi\n",
    "from numpy import array\n",
    "\n",
    "import scipy\n",
    "\n",
    "from numpy import exp, imag, real,zeros, conj\n",
    "from numpy import sum\n",
    "from scipy import sparse\n",
    "from numpy import array\n",
    "import scipy.sparse as sp\n",
    "from numpy import concatenate\n",
    "\n",
    "from scipy.sparse import csr_matrix\n",
    "from numpy import sqrt, dot\n",
    "from numpy.random import choice\n",
    "from numpy.random import normal\n",
    "from numpy import sqrt\n",
    "\n",
    "\n",
    "from numpy import add\n",
    "from numpy import concatenate\n",
    "from scipy.sparse import coo_matrix\n",
    "\n",
    "from scipy.sparse import kron\n",
    "\n",
    "#t0=time.time()\n",
    "\n",
    "import numpy as np\n",
    "import pandas as pd\n",
    "from mpl_toolkits import mplot3d\n",
    "import numpy as np\n",
    "from scipy.sparse import kron\n",
    "from scipy.sparse import coo_matrix, identity\n",
    "\n",
    "\n",
    "\n",
    "# \\begin{align}\n",
    "# \\hat{H}_{{\\rm MACE}}^{i} & =\\sum_{k\\in C_{i}}B_{Q}\\hat{s}_{z,k}^{2}+\\sum_{\\substack{j,k\\in C_{i},\\\\\n",
    "# j<k\n",
    "# }\n",
    "# }V_{jk}\\left(\\hat{s}_{z,j}\\hat{s}_{z,k}-\\frac{1}{2}\\left(\\hat{s}_{x,j}\\hat{s}_{x,k}+\\hat{s}_{y,j}\\hat{s}_{y,k}\\right)\\right).\n",
    "# \\end{align}\n",
    "# \n",
    "\n",
    "# # Parameters\n",
    "#Vij_p=array(pd.read_csv('Vij.csv', header=None))\n",
    "\n",
    "\n",
    "# In[4]:"
   ]
  },
  {
   "cell_type": "code",
   "execution_count": 2,
   "metadata": {},
   "outputs": [
    {
     "data": {
      "text/plain": [
       "0.0"
      ]
     },
     "execution_count": 2,
     "metadata": {},
     "output_type": "execute_result"
    }
   ],
   "source": [
    "0.0000000e+00"
   ]
  },
  {
   "cell_type": "code",
   "execution_count": 3,
   "metadata": {},
   "outputs": [],
   "source": [
    "Vij_p=array([[0.0000000e+00,-1.1726507e+00, 9.7780472e-01,-2.2739504e-01, 1.2222559e-01, 2.8499205e-02],\n",
    "[-1.1726507e+00, 0.0000000e+00,-8.3063010e-02, 9.7780472e-01, 2.9999531e-02, 1.2222559e-01],\n",
    "[ 9.7780472e-01,-8.3063010e-02, 0.0000000e+00,-1.1726507e+00, 9.7780472e-01,-2.2739504e-01],\n",
    "[-2.2739504e-01, 9.7780472e-01,-1.1726507e+00, 0.0000000e+00,-8.3063010e-02, 9.7780472e-01],\n",
    "[ 1.2222559e-01, 2.9999531e-02, 9.7780472e-01,-8.3063010e-02, 0.0000000e+00,-1.1726507e+00],\n",
    "[ 2.8499205e-02, 1.2222559e-01,-2.2739504e-01, 9.7780472e-01,-1.1726507e+00, 0.0000000e+00]])\n"
   ]
  },
  {
   "cell_type": "code",
   "execution_count": null,
   "metadata": {},
   "outputs": [],
   "source": []
  },
  {
   "cell_type": "code",
   "execution_count": null,
   "metadata": {},
   "outputs": [],
   "source": []
  },
  {
   "cell_type": "code",
   "execution_count": 4,
   "metadata": {},
   "outputs": [
    {
     "data": {
      "text/plain": [
       "array([[ 0.        , -1.1726507 ,  0.97780472, -0.22739504,  0.12222559,\n",
       "         0.0284992 ],\n",
       "       [-1.1726507 ,  0.        , -0.08306301,  0.97780472,  0.02999953,\n",
       "         0.12222559],\n",
       "       [ 0.97780472, -0.08306301,  0.        , -1.1726507 ,  0.97780472,\n",
       "        -0.22739504],\n",
       "       [-0.22739504,  0.97780472, -1.1726507 ,  0.        , -0.08306301,\n",
       "         0.97780472],\n",
       "       [ 0.12222559,  0.02999953,  0.97780472, -0.08306301,  0.        ,\n",
       "        -1.1726507 ],\n",
       "       [ 0.0284992 ,  0.12222559, -0.22739504,  0.97780472, -1.1726507 ,\n",
       "         0.        ]])"
      ]
     },
     "execution_count": 4,
     "metadata": {},
     "output_type": "execute_result"
    }
   ],
   "source": [
    "Vij_p"
   ]
  },
  {
   "cell_type": "code",
   "execution_count": 5,
   "metadata": {},
   "outputs": [],
   "source": [
    "#df = pd.read_csv('EdwinVij_7x3x7_obc.dat', sep=\",\", header=None)"
   ]
  },
  {
   "cell_type": "code",
   "execution_count": 6,
   "metadata": {},
   "outputs": [],
   "source": [
    "import numpy as np\n",
    "\n",
    "#x = np.fromfile('EdwinVij_7x3x7_obc.dat')"
   ]
  },
  {
   "cell_type": "code",
   "execution_count": null,
   "metadata": {},
   "outputs": [],
   "source": []
  },
  {
   "cell_type": "code",
   "execution_count": 7,
   "metadata": {},
   "outputs": [],
   "source": [
    "Vij_p=array([[0.0000000e+00,-1.1726507e+00, 9.7780472e-01,-2.2739504e-01, 1.2222559e-01, 2.8499205e-02],\n",
    "[-1.1726507e+00, 0.0000000e+00,-8.3063010e-02, 9.7780472e-01, 2.9999531e-02, 1.2222559e-01],\n",
    "[ 9.7780472e-01,-8.3063010e-02, 0.0000000e+00,-1.1726507e+00, 9.7780472e-01,-2.2739504e-01],\n",
    "[-2.2739504e-01, 9.7780472e-01,-1.1726507e+00, 0.0000000e+00,-8.3063010e-02, 9.7780472e-01],\n",
    "[ 1.2222559e-01, 2.9999531e-02, 9.7780472e-01,-8.3063010e-02, 0.0000000e+00,-1.1726507e+00],\n",
    "[ 2.8499205e-02, 1.2222559e-01,-2.2739504e-01, 9.7780472e-01,-1.1726507e+00, 0.0000000e+00]])\n"
   ]
  },
  {
   "cell_type": "code",
   "execution_count": 8,
   "metadata": {},
   "outputs": [],
   "source": [
    "Vij_p=array([[0.0000000e+00,-1.1726507e+00, 9.7780472e-01],\n",
    "[-1.1726507e+00, 0.0000000e+00,-8.3063010e-02],\n",
    "[ 9.7780472e-01,-8.3063010e-02, 0.0000000e+00]])"
   ]
  },
  {
   "cell_type": "code",
   "execution_count": null,
   "metadata": {},
   "outputs": [],
   "source": []
  },
  {
   "cell_type": "code",
   "execution_count": 9,
   "metadata": {},
   "outputs": [],
   "source": [
    "Vij_p=array([[0.0000000e+00,-1.1726507e+00, 9.7780472e-01,-2.2739504e-01, 1.2222559e-01, 2.8499205e-02],\n",
    "[-1.1726507e+00, 0.0000000e+00,-8.3063010e-02, 9.7780472e-01, 2.9999531e-02, 1.2222559e-01],\n",
    "[ 9.7780472e-01,-8.3063010e-02, 0.0000000e+00,-1.1726507e+00, 9.7780472e-01,-2.2739504e-01],\n",
    "[-2.2739504e-01, 9.7780472e-01,-1.1726507e+00, 0.0000000e+00,-8.3063010e-02, 9.7780472e-01],\n",
    "[ 1.2222559e-01, 2.9999531e-02, 9.7780472e-01,-8.3063010e-02, 0.0000000e+00,-1.1726507e+00],\n",
    "[ 2.8499205e-02, 1.2222559e-01,-2.2739504e-01, 9.7780472e-01,-1.1726507e+00, 0.0000000e+00]])\n"
   ]
  },
  {
   "cell_type": "code",
   "execution_count": 10,
   "metadata": {},
   "outputs": [],
   "source": [
    "Vij_p=array([[0.0000000e+00,-1.1726507e+00],\n",
    "[-1.1726507e+00, 0.0000000e+00]])"
   ]
  },
  {
   "cell_type": "code",
   "execution_count": null,
   "metadata": {},
   "outputs": [],
   "source": []
  },
  {
   "cell_type": "code",
   "execution_count": 11,
   "metadata": {},
   "outputs": [],
   "source": [
    "Vij_p=array([[0.0000000e+00,-1.1726507e+00, 9.7780472e-01],\n",
    "[-1.1726507e+00, 0.0000000e+00,-8.3063010e-02],\n",
    "[ 9.7780472e-01,-8.3063010e-02, 0.0000000e+00]])"
   ]
  },
  {
   "cell_type": "code",
   "execution_count": 12,
   "metadata": {},
   "outputs": [],
   "source": [
    "\n",
    "Vij_p=array([[0.0000000e+00,-1.1726507e+00],\n",
    "[-1.1726507e+00, 0.0000000e+00]])"
   ]
  },
  {
   "cell_type": "code",
   "execution_count": null,
   "metadata": {},
   "outputs": [],
   "source": []
  },
  {
   "cell_type": "code",
   "execution_count": 13,
   "metadata": {},
   "outputs": [],
   "source": [
    "Vij_p=array([[0.0000000e+00,-1.1726507e+00, 9.7780472e-01],\n",
    "[-1.1726507e+00, 0.0000000e+00,-8.3063010e-02],\n",
    "[ 9.7780472e-01,-8.3063010e-02, 0.0000000e+00]])"
   ]
  },
  {
   "cell_type": "code",
   "execution_count": 14,
   "metadata": {},
   "outputs": [],
   "source": [
    "Vij_p=array([[0.0000000e+00,-1.1726507e+00, 9.7780472e-01,-2.2739504e-01, 1.2222559e-01, 2.8499205e-02],\n",
    "[-1.1726507e+00, 0.0000000e+00,-8.3063010e-02, 9.7780472e-01, 2.9999531e-02, 1.2222559e-01],\n",
    "[ 9.7780472e-01,-8.3063010e-02, 0.0000000e+00,-1.1726507e+00, 9.7780472e-01,-2.2739504e-01],\n",
    "[-2.2739504e-01, 9.7780472e-01,-1.1726507e+00, 0.0000000e+00,-8.3063010e-02, 9.7780472e-01],\n",
    "[ 1.2222559e-01, 2.9999531e-02, 9.7780472e-01,-8.3063010e-02, 0.0000000e+00,-1.1726507e+00],\n",
    "[ 2.8499205e-02, 1.2222559e-01,-2.2739504e-01, 9.7780472e-01,-1.1726507e+00, 0.0000000e+00]])\n"
   ]
  },
  {
   "cell_type": "code",
   "execution_count": null,
   "metadata": {},
   "outputs": [],
   "source": []
  },
  {
   "cell_type": "code",
   "execution_count": 15,
   "metadata": {},
   "outputs": [],
   "source": [
    "Vij_p=array([[0.0000000e+00,-1.1726507e+00, 9.7780472e-01],\n",
    "[-1.1726507e+00, 0.0000000e+00,-8.3063010e-02],\n",
    "[ 9.7780472e-01,-8.3063010e-02, 0.0000000e+00]])\n",
    "\n",
    "\n",
    "Vij_p=array([[0.0000000e+00,-1.1726507e+00, 9.7780472e-01,-2.2739504e-01, 1.2222559e-01, 2.8499205e-02],\n",
    "[-1.1726507e+00, 0.0000000e+00,-8.3063010e-02, 9.7780472e-01, 2.9999531e-02, 1.2222559e-01],\n",
    "[ 9.7780472e-01,-8.3063010e-02, 0.0000000e+00,-1.1726507e+00, 9.7780472e-01,-2.2739504e-01],\n",
    "[-2.2739504e-01, 9.7780472e-01,-1.1726507e+00, 0.0000000e+00,-8.3063010e-02, 9.7780472e-01],\n",
    "[ 1.2222559e-01, 2.9999531e-02, 9.7780472e-01,-8.3063010e-02, 0.0000000e+00,-1.1726507e+00],\n",
    "[ 2.8499205e-02, 1.2222559e-01,-2.2739504e-01, 9.7780472e-01,-1.1726507e+00, 0.0000000e+00]])\n",
    "\n",
    "\n",
    "\n",
    "Vij_p=array([[0.0000000e+00,-1.1726507e+00],\n",
    "[-1.1726507e+00, 0.0000000e+00]])\n",
    "\n",
    "\n",
    "Vij_p=array([[0.0000000e+00,-1.1726507e+00, 9.7780472e-01],\n",
    "[-1.1726507e+00, 0.0000000e+00,-8.3063010e-02],\n",
    "[ 9.7780472e-01,-8.3063010e-02, 0.0000000e+00]])\n",
    "\n",
    "\n",
    "Vij_p=array([[0.0000000e+00,-1.1726507e+00, 9.7780472e-01,-2.2739504e-01, 1.2222559e-01, 2.8499205e-02],\n",
    "[-1.1726507e+00, 0.0000000e+00,-8.3063010e-02, 9.7780472e-01, 2.9999531e-02, 1.2222559e-01],\n",
    "[ 9.7780472e-01,-8.3063010e-02, 0.0000000e+00,-1.1726507e+00, 9.7780472e-01,-2.2739504e-01],\n",
    "[-2.2739504e-01, 9.7780472e-01,-1.1726507e+00, 0.0000000e+00,-8.3063010e-02, 9.7780472e-01],\n",
    "[ 1.2222559e-01, 2.9999531e-02, 9.7780472e-01,-8.3063010e-02, 0.0000000e+00,-1.1726507e+00],\n",
    "[ 2.8499205e-02, 1.2222559e-01,-2.2739504e-01, 9.7780472e-01,-1.1726507e+00, 0.0000000e+00]])\n",
    "\n",
    "\n",
    "Vij_p=array([[0.0000000e+00,-1.1726507e+00, 9.7780472e-01],\n",
    "[-1.1726507e+00, 0.0000000e+00,-8.3063010e-02],\n",
    "[ 9.7780472e-01,-8.3063010e-02, 0.0000000e+00]])\n",
    "\n",
    "\n",
    "\n",
    "Vij_p=array([[0.0000000e+00,-1.1726507e+00, 9.7780472e-01,-2.2739504e-01, 1.2222559e-01, 2.8499205e-02],\n",
    "[-1.1726507e+00, 0.0000000e+00,-8.3063010e-02, 9.7780472e-01, 2.9999531e-02, 1.2222559e-01],\n",
    "[ 9.7780472e-01,-8.3063010e-02, 0.0000000e+00,-1.1726507e+00, 9.7780472e-01,-2.2739504e-01],\n",
    "[-2.2739504e-01, 9.7780472e-01,-1.1726507e+00, 0.0000000e+00,-8.3063010e-02, 9.7780472e-01],\n",
    "[ 1.2222559e-01, 2.9999531e-02, 9.7780472e-01,-8.3063010e-02, 0.0000000e+00,-1.1726507e+00],\n",
    "[ 2.8499205e-02, 1.2222559e-01,-2.2739504e-01, 9.7780472e-01,-1.1726507e+00, 0.0000000e+00]])\n"
   ]
  },
  {
   "cell_type": "code",
   "execution_count": null,
   "metadata": {},
   "outputs": [],
   "source": []
  },
  {
   "cell_type": "code",
   "execution_count": 16,
   "metadata": {},
   "outputs": [],
   "source": [
    "\n",
    "df = pd.read_csv('EdwinVij_7x3x7_obc.dat', sep='\\s+|\\s+',engine='python',header=None)\n",
    "#df.to_csv('EdwinVij_7x3x7_obc.csv', index=None)\n",
    "Vij_p=np.zeros((147,147))\n",
    "\n",
    "for i_ in range(147):\n",
    "    for j_ in range(147):\n",
    "        \n",
    "        Vij_p[i_,j_]=df.iloc[i_,j_]\n",
    "        "
   ]
  },
  {
   "cell_type": "code",
   "execution_count": 17,
   "metadata": {},
   "outputs": [
    {
     "data": {
      "text/plain": [
       "(147, 147)"
      ]
     },
     "execution_count": 17,
     "metadata": {},
     "output_type": "execute_result"
    }
   ],
   "source": [
    "Vij_p.shape"
   ]
  },
  {
   "cell_type": "code",
   "execution_count": 18,
   "metadata": {},
   "outputs": [],
   "source": [
    "Vij_p=array([[ 0.        ,1.1726507 , -0.14658133, -1.1726507],\n",
    "       [1.1726507 ,  0.        , -1.1726507 , -0.74658133],\n",
    "       [-0.14658133, -1.1726507 ,  0.        , -1.1726507 ],\n",
    "       [-1.1726507 , -0.74658133, -1.1726507 ,  0.    ]])\n",
    "\n",
    "\n",
    "Vij_p=array([[0.0000000e+00,-1.1726507e+00, 9.7780472e-01,-2.2739504e-01, 1.2222559e-01, 2.8499205e-02],\n",
    "[-1.1726507e+00, 0.0000000e+00,-8.3063010e-02, 9.7780472e-01, 2.9999531e-02, 1.2222559e-01],\n",
    "[ 9.7780472e-01,-8.3063010e-02, 0.0000000e+00,-1.1726507e+00, 9.7780472e-01,-2.2739504e-01],\n",
    "[-2.2739504e-01, 9.7780472e-01,-1.1726507e+00, 0.0000000e+00,-8.3063010e-02, 9.7780472e-01],\n",
    "[ 1.2222559e-01, 2.9999531e-02, 9.7780472e-01,-8.3063010e-02, 0.0000000e+00,-1.1726507e+00],\n",
    "[ 2.8499205e-02, 1.2222559e-01,-2.2739504e-01, 9.7780472e-01,-1.1726507e+00, 0.0000000e+00]])\n"
   ]
  },
  {
   "cell_type": "code",
   "execution_count": null,
   "metadata": {},
   "outputs": [],
   "source": []
  },
  {
   "cell_type": "code",
   "execution_count": null,
   "metadata": {},
   "outputs": [],
   "source": []
  },
  {
   "cell_type": "code",
   "execution_count": 19,
   "metadata": {},
   "outputs": [],
   "source": [
    "\n",
    "df = pd.read_csv('EdwinVij_7x3x7_obc.dat', sep='\\s+|\\s+',engine='python',header=None)\n",
    "\n",
    "df.to_csv('EdwinVij_7x3x7_obc.csv', index=None)\n",
    "Vij_p=array(df)\n"
   ]
  },
  {
   "cell_type": "code",
   "execution_count": null,
   "metadata": {},
   "outputs": [],
   "source": []
  },
  {
   "cell_type": "code",
   "execution_count": 20,
   "metadata": {},
   "outputs": [],
   "source": [
    "N_atom=Vij_p.shape[0]"
   ]
  },
  {
   "cell_type": "code",
   "execution_count": null,
   "metadata": {},
   "outputs": [],
   "source": []
  },
  {
   "cell_type": "code",
   "execution_count": null,
   "metadata": {},
   "outputs": [],
   "source": []
  },
  {
   "cell_type": "code",
   "execution_count": null,
   "metadata": {},
   "outputs": [],
   "source": []
  },
  {
   "cell_type": "code",
   "execution_count": 21,
   "metadata": {},
   "outputs": [
    {
     "data": {
      "text/plain": [
       "192"
      ]
     },
     "execution_count": 21,
     "metadata": {},
     "output_type": "execute_result"
    }
   ],
   "source": [
    "# # Parameters\n",
    "Vij_p=array(pd.read_csv('Vij.csv', header=None))\n",
    "\n",
    "\n",
    "# In[4]:\n",
    "N_atom=Vij_p.shape[0]\n",
    "\n",
    "\n",
    "N_atom"
   ]
  },
  {
   "cell_type": "code",
   "execution_count": null,
   "metadata": {},
   "outputs": [],
   "source": []
  },
  {
   "cell_type": "code",
   "execution_count": 22,
   "metadata": {},
   "outputs": [],
   "source": [
    "\n",
    "# In[4]:\n",
    "N_atom=Vij_p.shape[0]\n"
   ]
  },
  {
   "cell_type": "code",
   "execution_count": 23,
   "metadata": {},
   "outputs": [
    {
     "data": {
      "text/plain": [
       "192"
      ]
     },
     "execution_count": 23,
     "metadata": {},
     "output_type": "execute_result"
    }
   ],
   "source": [
    "N_atom"
   ]
  },
  {
   "cell_type": "code",
   "execution_count": null,
   "metadata": {},
   "outputs": [],
   "source": []
  },
  {
   "cell_type": "code",
   "execution_count": null,
   "metadata": {},
   "outputs": [],
   "source": []
  },
  {
   "cell_type": "code",
   "execution_count": null,
   "metadata": {},
   "outputs": [],
   "source": []
  },
  {
   "cell_type": "code",
   "execution_count": null,
   "metadata": {},
   "outputs": [],
   "source": []
  },
  {
   "cell_type": "code",
   "execution_count": 24,
   "metadata": {},
   "outputs": [],
   "source": [
    "import random\n",
    "\n",
    "import numpy as np\n",
    "from numpy import sin, cos, sqrt\n",
    "\n",
    "\n",
    "from numpy import sqrt\n",
    "\n",
    "import time\n",
    "\n",
    "from scipy.stats import rv_discrete \n",
    "from numpy import zeros\n",
    "from numpy.random import choice"
   ]
  },
  {
   "cell_type": "code",
   "execution_count": 25,
   "metadata": {},
   "outputs": [],
   "source": [
    "matrix_upper = np.zeros((N_atom,N_atom))\n",
    "\n",
    "# loop through the upper diagonal and set all values to 1\n",
    "for i in range(N_atom):\n",
    "    for j in range(i+1, N_atom):\n",
    "        matrix_upper[i][j] = random.choice([-1, 1])\n",
    "\n",
    "\n",
    "\n",
    "#Parameters  (Check the units)\n",
    "\n",
    "B_Q= -1.8475#0.3988 # in Vdd units\n",
    "N_atom=Vij_p.shape[0]\n",
    "S_spin=3   #determine the number of Zeeman levels (2S+1)\n",
    "Levels=int(2*S_spin+1)\n",
    "Atom_cutoff=4\n",
    "\n",
    "#Array Vij will be provided by Sean, just we will play with a random Vij for testing that the code makes sense.\n",
    "#Mgen=np.random.rand(N_atom,N_atom)\n",
    "\n",
    "\n",
    "\n",
    "# In[5]:\n"
   ]
  },
  {
   "cell_type": "code",
   "execution_count": 26,
   "metadata": {},
   "outputs": [
    {
     "data": {
      "text/plain": [
       "192"
      ]
     },
     "execution_count": 26,
     "metadata": {},
     "output_type": "execute_result"
    }
   ],
   "source": [
    "N_atom"
   ]
  },
  {
   "cell_type": "code",
   "execution_count": null,
   "metadata": {},
   "outputs": [],
   "source": []
  },
  {
   "cell_type": "code",
   "execution_count": 27,
   "metadata": {},
   "outputs": [],
   "source": [
    "#IsingZ, if this variable is 0 then activates the Ising model as 2013 Hazzard.\n",
    "\n",
    "\n",
    "\n",
    "def Trajectory_TWA(B_Q= -1.8475,Atom_cutoff=2,S_spin=3,N_atom=Vij_p.shape[0],Perturb=1,TWA=1,IsingZ=1):\n",
    "    \n",
    "    import numpy as np\n",
    "    from numpy import sqrt\n",
    "    \n",
    "\n",
    "    matrix_random=np.zeros((N_atom,N_atom))\n",
    "    \n",
    "    \n",
    "    \n",
    "\n",
    "\n",
    "    for j in range(N_atom):\n",
    "        for v in range(j+1,N_atom):\n",
    "\n",
    "            #print(np.random.exponential(scale=abs(Vij_p[j,v]+1.1e-7), size=1)[0])\n",
    "\n",
    "            matrix_random[j,v]= np.random.normal(0,abs(Vij_p[j,v]+1e-7)**0.5,1)[0]\n",
    "\n",
    "    Vrand0=matrix_random\n",
    "\n",
    "    Vrand=(Vrand0+Vrand0.T) #/sqrt(N_atom)  \n",
    "    Vij=Vij_p +Vrand*Perturb    \n",
    "    \n",
    "    Levels=int(2*S_spin+1)\n",
    "\n",
    "    Vij=(Vij-np.diag(np.diag(Vij)))\n",
    "\n",
    "\n",
    "    # In[7]:\n",
    "\n",
    "\n",
    "    VijN=np.zeros((N_atom,N_atom))\n",
    "\n",
    "    for j in range(N_atom):\n",
    "\n",
    "        VijN[j]=Vij[j][:N_atom]\n",
    "        \n",
    "        \n",
    "    #print(Vij[0,1],\"here\")\n",
    "\n",
    "\n",
    "\n",
    "\n",
    "    # In[8]:\n",
    "\n",
    "\n",
    "    Vij=VijN\n",
    "    \n",
    "    #print(Vij[0,1],\"here\")\n",
    "\n",
    "\n",
    "\n",
    "    def index_Gij(arr,Atom_cutoff):\n",
    "\n",
    "        Ordered_N = list(np.argsort(arr)[::-1][:Atom_cutoff])\n",
    "\n",
    "        return Ordered_N\n",
    "\n",
    "    # Provides a list of lists with the arrays that belong to each cluster\n",
    "\n",
    "\n",
    "    Index_N=[]\n",
    "\n",
    "    Rem_iden=abs(Vij)\n",
    "\n",
    "\n",
    "    for j in range(Rem_iden.shape[0]):\n",
    "\n",
    "        test_list = list(Rem_iden[j])\n",
    "\n",
    "        Index_N.append( [j]+list(index_Gij(test_list,Atom_cutoff-1))  )\n",
    "\n",
    "\n",
    "    Val=-np.linspace(-S_spin,S_spin,int(2*S_spin+1))\n",
    "\n",
    "\n",
    "    Coord=np.linspace(0,2*S_spin,int(2*S_spin+1))\n",
    "\n",
    "    Sz_sp=sparse.coo_matrix((Val,(Coord,Coord)),shape=(int(2*S_spin+1),int(2*S_spin+1)),dtype=\"complex\") \n",
    "\n",
    "\n",
    "\n",
    "    # In[ ]:\n",
    "\n",
    "\n",
    "    #Define Splus\n",
    "\n",
    "    Val=[]\n",
    "\n",
    "\n",
    "    for j in range(1,int(2*S_spin)+1):\n",
    "\n",
    "        Val.append(sqrt((S_spin)*(S_spin+1)-(S_spin-j)*(S_spin+1-j)))\n",
    "\n",
    "\n",
    "    Coord=np.linspace(0,int(2*S_spin)-1,int(2*S_spin))    \n",
    "    Splu_sp=(sparse.coo_matrix((Val,(Coord,Coord+1)),shape=(int(2*S_spin)+1,int(2*S_spin)+1),dtype=\"complex\")) \n",
    "\n",
    "    Sx_sp=(Splu_sp+Splu_sp.T)/2\n",
    "    Sy_sp=(Splu_sp-Splu_sp.T)/(2j)\n",
    "\n",
    "\n",
    "\n",
    "\n",
    "    ## Check until here\n",
    "\n",
    "    #Initial state |S,-S>\n",
    "    Init_st=(sparse.coo_matrix(([1],([Levels-1],[0])),shape=(int(2*S_spin)+1,1),dtype=\"complex\")) \n",
    "\n",
    "\n",
    "\n",
    "    #Initial state |S,-S>\n",
    "\n",
    "\n",
    "\n",
    "    Init_st=(sparse.coo_matrix(([1],([Levels-1],[0])),shape=(int(2*S_spin)+1,1),dtype=\"complex\")) \n",
    "\n",
    "\n",
    "    #Theta_=np.pi/5\n",
    "    #Phi_=np.pi/3\n",
    "\n",
    "    #Init_st=sparse.coo_matrix(array([[np.cos(Theta_/2)],\n",
    "    #               [np.sin(Theta_/2)*exp(1j*Phi_)]]))\n",
    "\n",
    "\n",
    "    #Rotated initial state\n",
    "\n",
    "    theta_=np.pi/2\n",
    "\n",
    "    Init_st_rot=(expm(scipy.sparse.csc_matrix(-1j*(theta_)*Sy_sp))@Init_st)\n",
    "\n",
    "\n",
    "    Init_st_rot.toarray()\n",
    "\n",
    "    # Initial state\n",
    "\n",
    "\n",
    "\n",
    "    Eigen_sysX=scipy.linalg.eig(Sx_sp.toarray())\n",
    "    EigVectX=Eigen_sysX[1]\n",
    "    EigValX =real(Eigen_sysX[0])\n",
    "    Px=real((abs((Init_st_rot.toarray().reshape(int(2*S_spin)+1))@EigVectX))**2)\n",
    "\n",
    "    Eigen_sysY=scipy.linalg.eig(Sy_sp.toarray())\n",
    "    EigVectY=Eigen_sysY[1]\n",
    "    EigValY =real(Eigen_sysY[0])\n",
    "    Py=real((abs((Init_st_rot.toarray().reshape(int(2*S_spin)+1))@EigVectY))**2)\n",
    "\n",
    "    Eigen_sysZ=scipy.linalg.eig(Sz_sp.toarray())\n",
    "    EigVectZ=Eigen_sysZ[1]\n",
    "    EigValZ =real(Eigen_sysZ[0])\n",
    "    Pz=real((abs((Init_st_rot.toarray().reshape(int(2*S_spin)+1))@EigVectZ))**2)\n",
    "\n",
    "\n",
    "\n",
    "    def Initial_Values_GDTWA(N_atom=N_atom):\n",
    "\n",
    "        Xval=choice(EigValX, N_atom, p=Px)\n",
    "        Yval=choice(EigValY, N_atom, p=Py)\n",
    "        Zval=choice(EigValZ, N_atom, p=Pz)\n",
    "\n",
    "        Ordered_rand_val=zeros((N_atom,3))\n",
    "\n",
    "        for j in range(N_atom):\n",
    "\n",
    "            Ordered_rand_val[j][0]  =Xval[j]\n",
    "            Ordered_rand_val[j][1]  =Yval[j]\n",
    "            Ordered_rand_val[j][2]  =Zval[j]\n",
    "\n",
    "        return Ordered_rand_val+0j\n",
    "\n",
    "\n",
    "\n",
    "\n",
    "\n",
    "    Init_Values=Initial_Values_GDTWA()\n",
    "\n",
    "\n",
    "\n",
    "    Id_Spin=scipy.sparse.identity(Levels, dtype='complex')\n",
    "\n",
    "    Zero_Spin=0*Id_Spin\n",
    "\n",
    "\n",
    "    def Zeeman_Popul(m_s):\n",
    "\n",
    "        return sparse.coo_matrix(([1],([S_spin-m_s],[S_spin-m_s])),shape=(Levels,Levels),dtype=\"complex\")\n",
    "\n",
    "    ## Checked until here\n",
    "\n",
    "\n",
    "\n",
    "    Init_Total_rot=Init_st_rot\n",
    "\n",
    "\n",
    "\n",
    "\n",
    "    for j in range(Atom_cutoff-1):\n",
    "\n",
    "        Init_Total_rot=kron(Init_Total_rot,Init_st_rot)\n",
    "\n",
    "\n",
    "\n",
    "    Init_Total_rot=coo_matrix(Init_Total_rot)  #Initial state wavefunction\n",
    "\n",
    "\n",
    "    #Init_Total_rot.todense()\n",
    "\n",
    "\n",
    "\n",
    "\n",
    "    Iden_Tensor=coo_matrix(identity((Levels)**Atom_cutoff, dtype='complex'))\n",
    "    Zero_Tensor=0*Iden_Tensor\n",
    "\n",
    "\n",
    "\n",
    "\n",
    "    import functools as ft\n",
    "    from functools import reduce\n",
    "\n",
    "    lst = Atom_cutoff*[Id_Spin]\n",
    "    XX = reduce(kron, lst)\n",
    "\n",
    "\n",
    "\n",
    "    def A_i_tensor(A_op,i_index):\n",
    "\n",
    "        Array_id=Atom_cutoff*[Id_Spin] \n",
    "\n",
    "        Array_id[i_index]=A_op\n",
    "\n",
    "        return reduce(kron, Array_id)\n",
    "\n",
    "\n",
    "\n",
    "\n",
    "    #Not needed, just for reference\n",
    "\n",
    "    def tensor_kjXYZ2( k , j):   #tensor among k,j are Positions in the cluster after the G classification\n",
    "                             #k is +sigma and j is -sigma\n",
    "\n",
    "        Array_idX   = Atom_cutoff*[Id_Spin]   \n",
    "        Array_idX[k]= Sx_sp\n",
    "        Array_idX[j]= Sx_sp\n",
    "\n",
    "        Array_idY   = Atom_cutoff*[Id_Spin]\n",
    "        Array_idY[k]= Sy_sp\n",
    "        Array_idY[j]= Sy_sp\n",
    "\n",
    "        Array_idZ   = Atom_cutoff*[Id_Spin]\n",
    "        Array_idZ[k]= Sz_sp\n",
    "        Array_idZ[j]= Sz_sp\n",
    "\n",
    "        return reduce(kron, Array_idX),reduce(kron, Array_idY),reduce(kron, Array_idZ) \n",
    "\n",
    "\n",
    "\n",
    "\n",
    "    def tensor_termIntact( k , j):   #tensor among k,j are Positions in the cluster after the G classification\n",
    "                             #k is +sigma and j is -sigma\n",
    "\n",
    "        Array_idX   = Atom_cutoff*[Id_Spin]   \n",
    "        Array_idX[k]= Sx_sp\n",
    "        Array_idX[j]= Sx_sp\n",
    "\n",
    "        Array_idY   = Atom_cutoff*[Id_Spin]\n",
    "        Array_idY[k]= Sy_sp\n",
    "        Array_idY[j]= Sy_sp\n",
    "\n",
    "        Array_idZ   = Atom_cutoff*[Id_Spin]\n",
    "        Array_idZ[k]= Sz_sp\n",
    "        Array_idZ[j]= Sz_sp\n",
    "\n",
    "        return reduce(kron, Array_idZ)-IsingZ*0.5*( reduce(kron, Array_idX)+reduce(kron, Array_idY) ) \n",
    "\n",
    "\n",
    "\n",
    "\n",
    "\n",
    "\n",
    "    # I will use them for constructing covariances matrices\n",
    "\n",
    "    def tensor_kjXX( k , j):   #tensor among k,j are Positions in the cluster after the G classification\n",
    "                             #k is +sigma and j is -sigma \n",
    "        Array_id=Atom_cutoff*[Id_Spin]  \n",
    "\n",
    "        Array_id[k]=Sx_sp\n",
    "        Array_id[j]=Sx_sp\n",
    "\n",
    "        return reduce(kron, Array_id)\n",
    "\n",
    "\n",
    "\n",
    "    def tensor_kjYY( k , j):   #tensor among k,j are Positions in the cluster after the G classification\n",
    "                             #k is +sigma and j is -sigma \n",
    "        Array_id=Atom_cutoff*[Id_Spin]  \n",
    "\n",
    "        Array_id[k]=Sy_sp\n",
    "        Array_id[j]=Sy_sp\n",
    "\n",
    "        return reduce(kron, Array_id)\n",
    "\n",
    "\n",
    "\n",
    "    def tensor_kjZZ( k , j):   #tensor among k,j are Positions in the cluster after the G classification\n",
    "                             #k is +sigma and j is -sigma \n",
    "        Array_id=Atom_cutoff*[Id_Spin]  \n",
    "\n",
    "        Array_id[k]=Sz_sp\n",
    "        Array_id[j]=Sz_sp\n",
    "\n",
    "        return reduce(kron, Array_id)\n",
    "\n",
    "\n",
    "\n",
    "    Sz_cuad=Sz_sp@Sz_sp\n",
    "\n",
    "\n",
    "\n",
    "\n",
    "    Omega_y=0\n",
    "\n",
    "\n",
    "    # In[ ]:\n",
    "\n",
    "\n",
    "    def tensor_k_Zcuad( k ):  #Excited state k is a Position in the cluster after the G classification\n",
    "\n",
    "        Array_id=Atom_cutoff*[Id_Spin]  \n",
    "\n",
    "        Array_id[k]=Sz_cuad\n",
    "\n",
    "        return reduce(kron, Array_id)\n",
    "\n",
    "\n",
    "    # Construct a vector with |C_i| elements equal to A_i_tensor(Sz_cuad,j)\n",
    "\n",
    "    Sz_cuad_array=Zero_Tensor\n",
    "\n",
    "\n",
    "    for j in range(Atom_cutoff):\n",
    "\n",
    "        Sz_cuad_array+= B_Q* A_i_tensor(Sz_cuad,j)+ Omega_y*A_i_tensor(Sy_sp,j)\n",
    "\n",
    "    #Sz_cuad_array=Sz_cuad_array+ Omega_y*A_i_tensor(Sy_sp,0)  # + A_i_tensor(Sy_sp,0)\n",
    "\n",
    "\n",
    "\n",
    "    def Hamilt_ic(index_center):\n",
    "\n",
    "        Index_list=Index_N[index_center]\n",
    "        Hamil=Sz_cuad_array\n",
    "\n",
    "\n",
    "        for j in range(Atom_cutoff):\n",
    "\n",
    "            IL_j   = Index_list[j]\n",
    "\n",
    "            for k in range(j+1,Atom_cutoff):\n",
    "\n",
    "\n",
    "                IL_k   = Index_list[k]\n",
    "\n",
    "                Ten_jk = tensor_termIntact( j , k)\n",
    "\n",
    "\n",
    "                Hamil=Hamil+ Vij[IL_j,IL_k]*Ten_jk\n",
    "\n",
    "                #print(j,k,\"IndexN\", IL_j,IL_k)\n",
    "\n",
    "\n",
    "        return  Hamil\n",
    "\n",
    "\n",
    "    def f(t, yR,M_vect,b):\n",
    "\n",
    "        return -1j*M_vect@yR\n",
    "\n",
    "\n",
    "\n",
    "    import numpy as np\n",
    "    #from google.colab import files\n",
    "\n",
    "    \"\"\"In order to provide a better presentation of the graphs we use the rcParams options shown below.\"\"\"\n",
    "\n",
    "\n",
    "    from numpy import cos, sin\n",
    "\n",
    "    label_size = 20\n",
    "\n",
    "    from numpy import sqrt\n",
    "\n",
    "    import time\n",
    "    from numpy import sin, cos\n",
    "\n",
    "    T0=time.time()\n",
    "\n",
    "\n",
    "    # In[ ]:\n",
    "\n",
    "\n",
    "    Zeeman_Operators=[]\n",
    "\n",
    "\n",
    "\n",
    "\n",
    "\n",
    "    ListVal=[]\n",
    "\n",
    "\n",
    "    ValuesSpn=np.linspace(-S_spin,S_spin,int(2*S_spin+1))\n",
    "\n",
    "\n",
    "    ValuesSpn\n",
    "\n",
    "    for j in range(len(ValuesSpn)):\n",
    "\n",
    "        Zeeman_Operators.append(A_i_tensor(Zeeman_Popul( ValuesSpn[j]),0))\n",
    "\n",
    "\n",
    "\n",
    "    # In[ ]:\n",
    "\n",
    "    tspan=np.linspace(0,2.08,100)\n",
    "\n",
    "\n",
    "\n",
    "    from scipy.integrate import solve_ivp\n",
    "\n",
    "\n",
    "    T_init=tspan[0]\n",
    "\n",
    "    T_fin =tspan[-1]\n",
    "\n",
    "\n",
    "\n",
    "\n",
    "    #MACE method\n",
    "\n",
    "\n",
    "    from scipy.integrate import solve_ivp\n",
    "\n",
    "\n",
    "    def Dynam_Popul_CI(index_center):\n",
    "\n",
    "        Populations=np.zeros((Levels,len(tspan)))\n",
    "\n",
    "\n",
    "        #sol = solve_ivp(f, [tspan[0], tspan[-1]], list(Init_Total_rot.toarray().T[0]),args=(Hamilt_ic(index_center),None),dense_output=True )\n",
    "        sol = solve_ivp(f, [T_init, T_fin], list(Init_Total_rot.toarray().T[0]),args=(Hamilt_ic(index_center),None),dense_output=True)\n",
    "\n",
    "        Sol_dense=sol.sol(tspan)\n",
    "\n",
    "\n",
    "        for j in range(Levels):\n",
    "\n",
    "            Populations[j]=real((diag((conj(Sol_dense.T)@(Zeeman_Operators[j]@Sol_dense)))))\n",
    "\n",
    "\n",
    "        return Populations\n",
    "\n",
    "\n",
    "\n",
    "\n",
    "    Populat_Fin=np.zeros((Levels,len(tspan)))\n",
    "\n",
    "\n",
    "\n",
    "    OperX=[]\n",
    "    OperY=[]\n",
    "    OperZ=[]\n",
    "\n",
    "\n",
    "    for j in range(Atom_cutoff):\n",
    "\n",
    "\n",
    "        OperX.append( A_i_tensor(Sx_sp,j) )\n",
    "        OperY.append( A_i_tensor(Sy_sp,j) )\n",
    "        OperZ.append( A_i_tensor(Sz_sp,j) )\n",
    "\n",
    "\n",
    "\n",
    "\n",
    "\n",
    "    #CorrT2=N_atom*(S_spin/2-VarL)\n",
    "    #CorrT3=N_atom*(S_spin/2-VarL)\n",
    "    #CorrT4=N_atom*(S_spin/2-VarL)\n",
    "    #CorrT5=N_atom*(S_spin/2-VarL)\n",
    "    #CorrT6=S_spin/2-VarL\n",
    "\n",
    "    #(Vij@Mean_Val_XYZ)\n",
    "\n",
    "\n",
    "\n",
    "\n",
    "\n",
    "\n",
    "\n",
    "\n",
    "    number_parts=len(tspan)\n",
    "\n",
    "\n",
    "    index_parts=int(len(tspan)/number_parts)\n",
    "\n",
    "    tnew=[0]\n",
    "\n",
    "    for tind_ in range(len(tspan)-1):\n",
    "\n",
    "        Time_pos=int((tind_+1)//index_parts)\n",
    "\n",
    "        if (tind_+1)%index_parts==0:\n",
    "\n",
    "            tnew.append(tspan[tind_+1])\n",
    "\n",
    "    tnew=array(tnew)\n",
    "    \n",
    "    #print(Vij[0,1],\"here\")\n",
    "\n",
    "\n",
    "\n",
    "\n",
    "\n",
    "    def Hamilt_ic_MACE(index_center):\n",
    "\n",
    "        Index_list=Index_N[index_center]\n",
    "        Hamil=Sz_cuad_array\n",
    "\n",
    "\n",
    "        for j in range(Atom_cutoff):\n",
    "\n",
    "            IL_j   = Index_list[j]\n",
    "\n",
    "            for k in range(j+1,Atom_cutoff):\n",
    "\n",
    "\n",
    "                IL_k   = Index_list[k]\n",
    "\n",
    "                Hamil=Hamil+ Vij[IL_j,IL_k]*(tensor_termIntact( j , k) )\n",
    "\n",
    "                #print(j,k,\"IndexN\", IL_j,IL_k)\n",
    "\n",
    "\n",
    "        return  Hamil\n",
    "\n",
    "\n",
    "\n",
    "\n",
    "\n",
    "\n",
    "\n",
    "    # Wavefunction saving\n",
    "\n",
    "    Wave_function=np.zeros((Levels**Atom_cutoff,N_atom),dtype=\"complex\")\n",
    "\n",
    "\n",
    "\n",
    "    for j in range(N_atom):    \n",
    "        Wave_function[:,j]=Init_Total_rot.toarray().reshape(Levels**Atom_cutoff,)   #Not sparse structure because the state is not sparse\n",
    "\n",
    "\n",
    "    # Set mean values\n",
    "    \n",
    "    Mean_Val_XYZ=np.zeros((N_atom,3*len(tspan)),dtype=\"complex\")\n",
    "    Vj_dot_MV_XYZ=np.zeros((N_atom,3*len(tspan)),dtype=\"complex\")\n",
    "    \n",
    "    \n",
    "    if TWA==1:\n",
    "        \n",
    "        Mean_Val_XYZ_0=Initial_Values_GDTWA()\n",
    "        \n",
    "    else:\n",
    "        \n",
    "\n",
    "        \n",
    "        #tspan\n",
    "        #Vj_dot_MV_XYZ=Vij@Mean_Val_XYZ\n",
    "        \n",
    "\n",
    "        Mean_Val_XYZ_0     =  np.zeros((N_atom,3),dtype=\"complex\")\n",
    "        Mean_Val_XYZ_0[:,0]=diag(conj(Wave_function.T)@(OperX[0]@Wave_function))\n",
    "        Mean_Val_XYZ_0[:,1]=diag(conj(Wave_function.T)@(OperY[0]@Wave_function))\n",
    "        Mean_Val_XYZ_0[:,2]=diag(conj(Wave_function.T)@(OperZ[0]@Wave_function))\n",
    "\n",
    "    #Mean_Val_XYZ_0=Initial_Values_GDTWA() #\n",
    "    Vj_dot_MV_XYZ_0    =Vij@Mean_Val_XYZ_0\n",
    "    \n",
    "    #print(Vij[0,1],\"here\")\n",
    "\n",
    "    Mean_Val_XYZ[:,array([0,1,2])]=Mean_Val_XYZ_0\n",
    "    Vj_dot_MV_XYZ[:,array([0,1,2])]=Vj_dot_MV_XYZ_0\n",
    "\n",
    "\n",
    "\n",
    "    Popul_CMFT=np.zeros((int(2*S_spin+1),len(tnew)+1),dtype=complex)\n",
    "\n",
    "\n",
    "\n",
    "\n",
    "\n",
    "    for j in range(int(2*S_spin+1)):\n",
    "        Popul_CMFT[j,0]=sum(diag(conj(Wave_function.T)@(Zeeman_Operators[j]@Wave_function))) /N_atom\n",
    "\n",
    "\n",
    "\n",
    "    ### Covariance Matrices\n",
    "\n",
    "\n",
    "    Cov_X_mat=[]\n",
    "    Cov_Y_mat=[]\n",
    "    Cov_Z_mat=[]\n",
    "\n",
    "\n",
    "    for jva in range(Atom_cutoff):\n",
    "\n",
    "        if jva==0:\n",
    "\n",
    "            Cov_X_mat.append( A_i_tensor(Sx_sp,0)@A_i_tensor(Sx_sp,0)  )\n",
    "            Cov_Y_mat.append( A_i_tensor(Sy_sp,0)@A_i_tensor(Sy_sp,0)   )\n",
    "            Cov_Z_mat.append( A_i_tensor(Sz_sp,0)@A_i_tensor(Sz_sp,0)   )\n",
    "\n",
    "        else:\n",
    "\n",
    "            Cov_X_mat.append( tensor_kjXX(0,jva)  )\n",
    "            Cov_Y_mat.append( tensor_kjYY(0,jva)  )\n",
    "            Cov_Z_mat.append( tensor_kjZZ(0,jva)  )\n",
    "\n",
    "\n",
    "\n",
    "\n",
    "\n",
    "\n",
    "\n",
    "    #@jit\n",
    "    def Hamilt_ic_CMFT(index_center,tindector):\n",
    "\n",
    "        Index_list=Index_N[index_center]\n",
    "        HamilCMFT_=Zero_Tensor\n",
    "\n",
    "        x_ind=0+3*tindector\n",
    "        y_ind=1+3*tindector\n",
    "        z_ind=2+3*tindector\n",
    "\n",
    "\n",
    "        Vij_Vals_XYZ =Vj_dot_MV_XYZ[:,[x_ind,y_ind,z_ind]]\n",
    "        Vals_XYZ     =Mean_Val_XYZ[:,[x_ind,y_ind,z_ind]]\n",
    "\n",
    "\n",
    "        #Part_XX=Zero_Tensor\n",
    "\n",
    "        for j in range(Atom_cutoff):\n",
    "\n",
    "            IL_j   = Index_list[j]\n",
    "\n",
    "\n",
    "            VjX,VjY,VjZ=Vij_Vals_XYZ[IL_j]\n",
    "\n",
    "            hat_Sxj=OperX[j]\n",
    "            hat_Syj=OperY[j]\n",
    "            hat_Szj=OperZ[j]\n",
    "\n",
    "            HamilCMFT_=HamilCMFT_+ (VjZ*hat_Szj - 0.5*IsingZ*( VjX * hat_Sxj + VjY * hat_Syj   ) )\n",
    "\n",
    "            #Part_XX=Part_XX- 0.5*VjX*hat_Sxj\n",
    "\n",
    "\n",
    "            for k in range(Atom_cutoff):\n",
    "\n",
    "                IL_k   = Index_list[k]\n",
    "\n",
    "                sxk,syk,szk = Vals_XYZ[IL_k] \n",
    "\n",
    "                MF_termJK = szk*hat_Szj - 0.5 * ( sxk * hat_Sxj + syk * hat_Syj )*IsingZ\n",
    "\n",
    "                HamilCMFT_=HamilCMFT_ - Vij[IL_j,IL_k]*   MF_termJK  \n",
    "\n",
    "                #print(j,k,\"IndexN\", IL_j,IL_k)\n",
    "\n",
    "                #Part_XX= Part_XX- Vij[IL_j,IL_k]*(- 0.5 *sxk*hat_Sxj)\n",
    "\n",
    "        return  HamilCMFT_#, Part_XX\n",
    "\n",
    "\n",
    "\n",
    "\n",
    "    def Wave_func_part(Wave_fun_mt,inst_time):\n",
    "\n",
    "        Result_fin=Wave_fun_mt\n",
    "\n",
    "\n",
    "        for cent_ind in range(N_atom):\n",
    "\n",
    "\n",
    "            #Mat_dyn=Time_ind_hamil[cent_ind]   #+Part_time_dep(cent_ind,inst_time)\n",
    "\n",
    "            Mat_dyn=Hamilt_ic_MACE(cent_ind)+ Hamilt_ic_CMFT(cent_ind,inst_time)\n",
    "\n",
    "\n",
    "            sol_cent_ind = solve_ivp(f,[tspan[inst_time],tspan[inst_time+1]],list(Wave_fun_mt[:,cent_ind])\n",
    "                                     ,args=(Mat_dyn,None),dense_output=False)# , t_eval= [tspan[inst_time+1]])\n",
    "\n",
    "\n",
    "\n",
    "            Result_fin[:,cent_ind]=((sol_cent_ind.y)[:,-1]).reshape((Levels**Atom_cutoff,))\n",
    "\n",
    "            #print(cent_ind)\n",
    "            #print(cent_ind/N_atom)\n",
    "\n",
    "        return Result_fin\n",
    "\n",
    "\n",
    "\n",
    "\n",
    "    Corr_summ_XX=[]\n",
    "    Corr_summ_YY=[]\n",
    "    Corr_summ_ZZ=[]\n",
    "\n",
    "    Corr_X_matr=np.zeros((N_atom,N_atom),dtype=\"complex\")\n",
    "    Corr_Y_matr=np.zeros((N_atom,N_atom),dtype=\"complex\")\n",
    "    Corr_Z_matr=np.zeros((N_atom,N_atom),dtype=\"complex\")\n",
    "\n",
    "\n",
    "\n",
    "    for icor in range( N_atom ):\n",
    "\n",
    "        Wave_i=(Wave_function[:,icor]).reshape((int(2*S_spin+1))**Atom_cutoff,1)\n",
    "\n",
    "        for jcor in range(Atom_cutoff):\n",
    "\n",
    "            #print(icor,Index_N[icor][jcor], \"inti\")\n",
    "\n",
    "            Corr_X_matr[icor,Index_N[icor][jcor]]=(conj(Wave_i.T)@(Cov_X_mat[jcor]@Wave_i))[0,0]\n",
    "            Corr_Y_matr[icor,Index_N[icor][jcor]]=(conj(Wave_i.T)@(Cov_Y_mat[jcor]@Wave_i))[0,0]\n",
    "            Corr_Z_matr[icor,Index_N[icor][jcor]]=(conj(Wave_i.T)@(Cov_Z_mat[jcor]@Wave_i))[0,0]\n",
    "\n",
    "            #print(icor,Index_N[icor][jcor]  )\n",
    "\n",
    "    Corr_summ_XX.append( Corr_X_matr )\n",
    "    Corr_summ_YY.append( Corr_Y_matr )\n",
    "    Corr_summ_ZZ.append( Corr_Z_matr )\n",
    "\n",
    "\n",
    "\n",
    "    count=0\n",
    "\n",
    "    tNEW=[0]\n",
    "    \n",
    "    #print(Vij[0,1],\"here\")\n",
    "\n",
    "    for tind_ in range(len(tspan)-1):\n",
    "\n",
    "        Wave_function= Wave_func_part(Wave_function,tind_)\n",
    "\n",
    "\n",
    "        if (tind_+1)%index_parts==0:\n",
    "            count=count+1\n",
    "\n",
    "            tNEW.append(tspan[tind_+1])\n",
    "\n",
    "\n",
    "            Corr_X_matr=np.zeros((N_atom,N_atom),dtype=complex)\n",
    "            Corr_Y_matr=np.zeros((N_atom,N_atom),dtype=complex)\n",
    "            Corr_Z_matr=np.zeros((N_atom,N_atom),dtype=complex)\n",
    "\n",
    "\n",
    "            for icor in range( N_atom ):\n",
    "\n",
    "                Wave_i=(Wave_function[:,icor]).reshape((int(2*S_spin+1))**Atom_cutoff,1)\n",
    "\n",
    "                for jcor in range(Atom_cutoff):\n",
    "\n",
    "                    Corr_X_matr[icor,Index_N[icor][jcor]]=(conj(Wave_i.T)@(Cov_X_mat[jcor]@Wave_i))[0,0]\n",
    "                    Corr_Y_matr[icor,Index_N[icor][jcor]]=(conj(Wave_i.T)@(Cov_Y_mat[jcor]@Wave_i))[0,0]\n",
    "                    Corr_Z_matr[icor,Index_N[icor][jcor]]=(conj(Wave_i.T)@(Cov_Z_mat[jcor]@Wave_i))[0,0]\n",
    "\n",
    "\n",
    "            Corr_summ_XX.append( Corr_X_matr  )\n",
    "            Corr_summ_YY.append( Corr_Y_matr  )\n",
    "            Corr_summ_ZZ.append( Corr_Z_matr  )\n",
    "\n",
    "\n",
    "\n",
    "\n",
    "\n",
    "            for j in range(int(2*S_spin+1)):\n",
    "                Popul_CMFT[j,count]=sum(diag(conj(Wave_function.T)@(Zeeman_Operators[j]@Wave_function)))/N_atom\n",
    "\n",
    "            #Popul_CMFT[j,count]=sum(diag(conj(Wave_function.T)@(Zeeman_Operators[j]@Wave_function)))\n",
    "\n",
    "            print(100*(tind_+1)/len(tspan))\n",
    "\n",
    "        #print((100*tind_/(len(tspan)-1)),\"%\")\n",
    "\n",
    "\n",
    "\n",
    "\n",
    "        Mean_Val_XYZ_0     =np.zeros((N_atom,3),dtype=\"complex\")\n",
    "        Mean_Val_XYZ_0[:,0]=diag(conj(Wave_function.T)@(OperX[0]@Wave_function))\n",
    "        Mean_Val_XYZ_0[:,1]=diag(conj(Wave_function.T)@(OperY[0]@Wave_function))\n",
    "        Mean_Val_XYZ_0[:,2]=diag(conj(Wave_function.T)@(OperZ[0]@Wave_function))\n",
    "        Vj_dot_MV_XYZ_0    =Vij@Mean_Val_XYZ_0\n",
    "\n",
    "        step_time=3*(tind_+1)\n",
    "\n",
    "        Mean_Val_XYZ[ :,step_time+array([0,1,2])]=Mean_Val_XYZ_0\n",
    "        Vj_dot_MV_XYZ[:,step_time+array([0,1,2])]=Vj_dot_MV_XYZ_0\n",
    "\n",
    "        #print(step_time)\n",
    "    #print(Vij[0,1],\"here\")\n",
    "        \n",
    "    return Popul_CMFT,Mean_Val_XYZ,tspan,tnew,array(Corr_summ_XX),array(Corr_summ_YY),array(Corr_summ_ZZ),Index_N,Vij\n"
   ]
  },
  {
   "cell_type": "code",
   "execution_count": null,
   "metadata": {},
   "outputs": [],
   "source": []
  },
  {
   "cell_type": "code",
   "execution_count": 28,
   "metadata": {},
   "outputs": [],
   "source": [
    "### Trajectory_TWA(B_Q= -1.8475,Atom_cutoff=2,S_spin=3,N_atom=Vij_p.shape[0])"
   ]
  },
  {
   "cell_type": "code",
   "execution_count": null,
   "metadata": {},
   "outputs": [],
   "source": []
  },
  {
   "cell_type": "code",
   "execution_count": 29,
   "metadata": {},
   "outputs": [],
   "source": [
    "\n",
    "B_Q= -1.8475\n",
    "B_q=B_Q\n",
    "Atom_cutoff_val=3\n",
    "Number_Traj=5\n",
    "Spin_val=3\n",
    "\n",
    "Perturb_=2  #0*1/20\n",
    "TWA_=1\n",
    "IsingZ_=1   # IsingZ_ keeps the system in the Ising model of Hazzard et. al, 0 to get the original Ising model\n",
    "\n",
    "#Traj0=Trajectory_TWA(B_q,Atom_cutoff_)"
   ]
  },
  {
   "cell_type": "code",
   "execution_count": 30,
   "metadata": {},
   "outputs": [
    {
     "data": {
      "text/plain": [
       "192"
      ]
     },
     "execution_count": 30,
     "metadata": {},
     "output_type": "execute_result"
    }
   ],
   "source": [
    "####B_Q= -1.8475,Atom_cutoff=2,S_spin=1,N_atom=Vij_p.shape[0],Perturb=1\n",
    "\n",
    "N_atom"
   ]
  },
  {
   "cell_type": "code",
   "execution_count": null,
   "metadata": {},
   "outputs": [],
   "source": []
  },
  {
   "cell_type": "code",
   "execution_count": 31,
   "metadata": {},
   "outputs": [],
   "source": [
    "## Trajectory_TWA(B_Q= -1.8475,Atom_cutoff=2,S_spin=3,N_atom=Vij_p.shape[0],Perturb=1):"
   ]
  },
  {
   "cell_type": "code",
   "execution_count": null,
   "metadata": {},
   "outputs": [],
   "source": [
    "ti0=time.time()\n",
    "#IsingZ, if this variable is 0 then activates the Ising model as 2013 Hazzard.\n",
    "\n",
    "\n",
    "\n",
    "Traj_val=Trajectory_TWA(B_Q= B_q,Atom_cutoff=Atom_cutoff_val,S_spin=Spin_val,N_atom=Vij_p.shape[0],Perturb=Perturb_,TWA=TWA_,IsingZ=IsingZ_)\n",
    "\n",
    "\n",
    "Popul_CMFT=Traj_val[0]\n",
    "Mean_Val_XYZ=Traj_val[1]\n",
    "Corr_summ_XX,Corr_summ_YY,Corr_summ_ZZ=Traj_val[4],Traj_val[5],Traj_val[6]\n",
    "\n",
    "\n",
    "for jtr in range(Number_Traj-1):\n",
    "    \n",
    "    \n",
    "    Traj_val=Trajectory_TWA(B_Q= B_q,Atom_cutoff=Atom_cutoff_val,S_spin=Spin_val,N_atom=Vij_p.shape[0],Perturb=Perturb_,TWA=TWA_,IsingZ=IsingZ_)\n",
    "\n",
    "    Popul_CMFT0=Traj_val[0]\n",
    "    Mean_Val_XYZ0=Traj_val[1]\n",
    "    Corr_summ_XX0,Corr_summ_YY0,Corr_summ_ZZ0=Traj_val[4],Traj_val[5],Traj_val[6]\n",
    "    \n",
    "    Popul_CMFT  =Popul_CMFT+Popul_CMFT0\n",
    "    Mean_Val_XYZ=Mean_Val_XYZ+Mean_Val_XYZ0\n",
    "    Corr_summ_XX=Corr_summ_XX+Corr_summ_XX0\n",
    "    Corr_summ_YY=Corr_summ_YY+Corr_summ_YY0\n",
    "    Corr_summ_ZZ=Corr_summ_ZZ+Corr_summ_ZZ0\n",
    "    \n",
    "    print(jtr+1)\n",
    "    \n",
    "    \n",
    "    \n",
    "ti1=time.time()\n",
    "\n",
    "print(ti1-ti0)"
   ]
  },
  {
   "cell_type": "code",
   "execution_count": null,
   "metadata": {},
   "outputs": [],
   "source": []
  },
  {
   "cell_type": "code",
   "execution_count": null,
   "metadata": {},
   "outputs": [],
   "source": [
    "tspan=Traj_val[2]"
   ]
  },
  {
   "cell_type": "code",
   "execution_count": null,
   "metadata": {},
   "outputs": [],
   "source": []
  },
  {
   "cell_type": "code",
   "execution_count": null,
   "metadata": {},
   "outputs": [],
   "source": [
    "Traj_val[-2]"
   ]
  },
  {
   "cell_type": "code",
   "execution_count": null,
   "metadata": {},
   "outputs": [],
   "source": [
    "len(Traj_val[-2][0])"
   ]
  },
  {
   "cell_type": "code",
   "execution_count": null,
   "metadata": {},
   "outputs": [],
   "source": [
    "Choose_matr=np.zeros((N_atom,N_atom))\n",
    "\n",
    "for j in range(N_atom):\n",
    "    for k in range(len(Traj_val[-2][0])):\n",
    "        \n",
    "        #print(j,Traj_val[-2][j][k])\n",
    "        \n",
    "        Choose_matr[j][Traj_val[-2][j][k]]=1\n",
    "        \n",
    "        \n",
    "        \n"
   ]
  },
  {
   "cell_type": "code",
   "execution_count": null,
   "metadata": {},
   "outputs": [],
   "source": [
    "Choose_matr"
   ]
  },
  {
   "cell_type": "code",
   "execution_count": null,
   "metadata": {},
   "outputs": [],
   "source": []
  },
  {
   "cell_type": "code",
   "execution_count": null,
   "metadata": {},
   "outputs": [],
   "source": [
    "Popul_CMFT_fin  =Popul_CMFT/Number_Traj\n",
    "Mean_Val_XYZ_fin=Mean_Val_XYZ/Number_Traj\n",
    "Corr_summ_XX_fin=Corr_summ_XX/Number_Traj\n",
    "Corr_summ_YY_fin=Corr_summ_YY/Number_Traj\n",
    "Corr_summ_ZZ_fin=Corr_summ_ZZ/Number_Traj"
   ]
  },
  {
   "cell_type": "code",
   "execution_count": null,
   "metadata": {},
   "outputs": [],
   "source": []
  },
  {
   "cell_type": "code",
   "execution_count": null,
   "metadata": {},
   "outputs": [],
   "source": [
    "import matplotlib.pyplot as plt\n",
    "import matplotlib\n",
    "\n",
    "matplotlib.rcParams['text.usetex'] = False\n",
    "matplotlib.rcParams['mathtext.fontset'] = 'stix'\n",
    "matplotlib.rcParams['font.family'] = 'STIXGeneral'\n",
    "matplotlib.rcParams['font.size'] = 15\n",
    "matplotlib.rcParams['figure.figsize'] = (11.0, 8.0)\n",
    "\n",
    "label_size = 20\n",
    "\n",
    "\n"
   ]
  },
  {
   "cell_type": "code",
   "execution_count": null,
   "metadata": {},
   "outputs": [],
   "source": []
  },
  {
   "cell_type": "code",
   "execution_count": null,
   "metadata": {},
   "outputs": [],
   "source": [
    "Corr_summ_XX_fin.shape"
   ]
  },
  {
   "cell_type": "code",
   "execution_count": null,
   "metadata": {},
   "outputs": [],
   "source": []
  },
  {
   "cell_type": "code",
   "execution_count": null,
   "metadata": {},
   "outputs": [],
   "source": [
    "Mean_Val_XYZ_fin.shape"
   ]
  },
  {
   "cell_type": "code",
   "execution_count": null,
   "metadata": {},
   "outputs": [],
   "source": [
    "len(tspan)"
   ]
  },
  {
   "cell_type": "code",
   "execution_count": null,
   "metadata": {},
   "outputs": [],
   "source": [
    "Cov_summ_XX_fin=[]\n",
    "Cov_summ_YY_fin=[]\n",
    "Cov_summ_ZZ_fin=[]\n",
    "\n",
    "\n",
    "for j in range(len(tspan)):\n",
    "    \n",
    "    Cov_summ_XX_fin.append( Choose_matr*(Corr_summ_XX_fin[j]-Mean_Val_XYZ_fin[:,0+3*j].reshape(N_atom,1)@((Mean_Val_XYZ_fin[:,0+3*j].reshape(N_atom,1)).T))  )  \n",
    "    Cov_summ_YY_fin.append( Choose_matr*(Corr_summ_YY_fin[j]-Mean_Val_XYZ_fin[:,1+3*j].reshape(N_atom,1)@((Mean_Val_XYZ_fin[:,1+3*j].reshape(N_atom,1)).T))  )  \n",
    "    Cov_summ_ZZ_fin.append( Choose_matr*(Corr_summ_ZZ_fin[j]-Mean_Val_XYZ_fin[:,2+3*j].reshape(N_atom,1)@((Mean_Val_XYZ_fin[:,2+3*j].reshape(N_atom,1)).T))  )  \n",
    "   \n",
    "    \n",
    "    \n",
    "    "
   ]
  },
  {
   "cell_type": "code",
   "execution_count": null,
   "metadata": {},
   "outputs": [],
   "source": []
  },
  {
   "cell_type": "code",
   "execution_count": null,
   "metadata": {},
   "outputs": [],
   "source": []
  },
  {
   "cell_type": "code",
   "execution_count": null,
   "metadata": {},
   "outputs": [],
   "source": []
  },
  {
   "cell_type": "code",
   "execution_count": null,
   "metadata": {},
   "outputs": [],
   "source": []
  },
  {
   "cell_type": "code",
   "execution_count": null,
   "metadata": {},
   "outputs": [],
   "source": []
  },
  {
   "cell_type": "code",
   "execution_count": null,
   "metadata": {},
   "outputs": [],
   "source": [
    "\n",
    "\n",
    "\n",
    "CovSumX=[]\n",
    "CovSumY=[]\n",
    "CovSumZ=[]\n",
    "\n",
    "for j in range(len(tspan)):\n",
    "    \n",
    "    CovSumX.append(real(np.sum(Cov_summ_XX_fin[j]) ))#  -np.sum(np.diag(Cov_summ_XX_fin[j]))))\n",
    "    CovSumY.append(real(np.sum(Cov_summ_YY_fin[j]) )) # -np.sum(np.diag(Cov_summ_YY_fin[j]))))\n",
    "    CovSumZ.append(real(np.sum(Cov_summ_ZZ_fin[j]) ))  #-np.sum(np.diag(Cov_summ_ZZ_fin[j]))))\n",
    "    "
   ]
  },
  {
   "cell_type": "code",
   "execution_count": null,
   "metadata": {},
   "outputs": [],
   "source": []
  },
  {
   "cell_type": "code",
   "execution_count": null,
   "metadata": {},
   "outputs": [],
   "source": [
    "#NECovSumX=CovSumX\n",
    "#NECovSumY=CovSumY\n",
    "#NECovSumZ=CovSumZ\n",
    "\n",
    "\n",
    "#C3CovSumX=CovSumX\n",
    "#C3CovSumY=CovSumY\n",
    "#C3CovSumZ=CovSumZ"
   ]
  },
  {
   "cell_type": "code",
   "execution_count": null,
   "metadata": {},
   "outputs": [],
   "source": []
  },
  {
   "cell_type": "code",
   "execution_count": null,
   "metadata": {},
   "outputs": [],
   "source": [
    "C4CovSumX=CovSumX\n",
    "C4CovSumY=CovSumY\n",
    "C4CovSumZ=CovSumZ"
   ]
  },
  {
   "cell_type": "code",
   "execution_count": null,
   "metadata": {},
   "outputs": [],
   "source": []
  },
  {
   "cell_type": "code",
   "execution_count": null,
   "metadata": {},
   "outputs": [],
   "source": []
  },
  {
   "cell_type": "code",
   "execution_count": null,
   "metadata": {},
   "outputs": [],
   "source": []
  },
  {
   "cell_type": "code",
   "execution_count": null,
   "metadata": {},
   "outputs": [],
   "source": []
  },
  {
   "cell_type": "code",
   "execution_count": null,
   "metadata": {},
   "outputs": [],
   "source": [
    "#plt.plot(tspan*28.85/0.5,NECovSumX,label=\"NE Cov(X)\")\n",
    "#plt.plot(tspan*28.85/0.5,NECovSumY,label=\"NE Cov(X)\")\n",
    "#plt.plot(tspan*28.85/0.5,NECovSumZ,label=\"NE Cov(X)\")\n",
    "\n",
    "#plt.plot(tspan*28.85/0.5,array(C7CovSumX)/N_atom,\"k--\",label=\"CMF=7 Cov(X)\")\n",
    "#plt.plot(tspan*28.85/0.5,array(C7CovSumY)/N_atom,\"r--\",label=\"CMF=7 Cov(Y)\")\n",
    "#plt.plot(tspan*28.85/0.5,array(C7CovSumZ)/N_atom,\"b--\",label=\"CMF=7 Cov(Z)\")\n",
    "\n",
    "#plt.plot(tspan*28.85/0.5,array(C6CovSumX)/N_atom,\"k--\",label=\"CMF=6 Cov(X)\")\n",
    "#plt.plot(tspan*28.85/0.5,array(C6CovSumY)/N_atom,\"r--\",label=\"CMF=6 Cov(Y)\")\n",
    "#plt.plot(tspan*28.85/0.5,array(C6CovSumZ)/N_atom,\"b--\",label=\"CMF=6 Cov(Z)\")\n",
    "\n",
    "#plt.plot(tspan*28.85/0.5,array(C5CovSumX)/N_atom,\"k.-\",label=\"CMF=5 Cov(X)\")\n",
    "#plt.plot(tspan*28.85/0.5,array(C5CovSumY)/N_atom,\"r.-\",label=\"CMF=5 Cov(Y)\")\n",
    "#plt.plot(tspan*28.85/0.5,array(C5CovSumZ)/N_atom,\"b.-\",label=\"CMF=5 Cov(Z)\")\n",
    "\n",
    "#plt.plot(tspan*28.85/0.5,array(P4CovSumX)/N_atom,\"k--\",label=\"CMFP=4 Cov(X)\")\n",
    "#plt.plot(tspan*28.85/0.5,array(P4CovSumY)/N_atom,\"r--\",label=\"CMFP=4 Cov(Y)\")\n",
    "#plt.plot(tspan*28.85/0.5,array(P4CovSumZ)/N_atom,\"b--\",label=\"CMFP=4 Cov(Z)\")\n",
    "\n",
    "\n",
    "#plt.plot(tspan*28.85/0.5,array(C4CovSumX)/N_atom,\"g--\",label=\"CMF=4 Cov(X)\")\n",
    "#plt.plot(tspan*28.85/0.5,array(C4CovSumY)/N_atom,\"c--\",label=\"CMF=4 Cov(Y)\")\n",
    "plt.plot(tspan[1:]*28.85/0.5,array(C4CovSumZ)[1:]/N_atom,\"m--\",label=\"CMF=4 Cov(Z)\")\n",
    "\n",
    "#plt.plot(tspan*28.85/0.5,array(C3CovSumX)/N_atom,\"k--\",label=\"CMF=3 Cov(X)\")\n",
    "#plt.plot(tspan*28.85/0.5,array(C3CovSumY)/N_atom,\"r--\",label=\"CMF=3 Cov(Y)\")\n",
    "#plt.plot(tspan*28.85/0.5,array(C3CovSumZ)/N_atom,\"b--\",label=\"CMF=3 Cov(Z)\")\n",
    "\n",
    "#plt.plot(tspan*28.85/0.5,array(NECovSumX)/N_atom,\"k-\",label=\"NE Cov(X)\")\n",
    "#plt.plot(tspan*28.85/0.5,array(NECovSumY)/N_atom,\"r-\",label=\"NE Cov(Y)\")\n",
    "#plt.plot(tspan*28.85/0.5,array(NECovSumZ)/N_atom,\"b-\",label=\"NE Cov(Z)\")\n",
    "\n",
    "plt.legend()"
   ]
  },
  {
   "cell_type": "code",
   "execution_count": null,
   "metadata": {},
   "outputs": [],
   "source": []
  },
  {
   "cell_type": "code",
   "execution_count": null,
   "metadata": {},
   "outputs": [],
   "source": []
  },
  {
   "cell_type": "code",
   "execution_count": null,
   "metadata": {},
   "outputs": [],
   "source": []
  },
  {
   "cell_type": "code",
   "execution_count": null,
   "metadata": {},
   "outputs": [],
   "source": [
    "#plt.plot(tspan*28.85/0.5,NECovSumX,label=\"NE Cov(X)\")\n",
    "#plt.plot(tspan*28.85/0.5,NECovSumY,label=\"NE Cov(X)\")\n",
    "#plt.plot(tspan*28.85/0.5,NECovSumZ,label=\"NE Cov(X)\")\n",
    "\n",
    "#plt.plot(tspan*28.85/0.5,array(C7CovSumX)/N_atom,\"k--\",label=\"CMF=7 Cov(X)\")\n",
    "#plt.plot(tspan*28.85/0.5,array(C7CovSumY)/N_atom,\"r--\",label=\"CMF=7 Cov(Y)\")\n",
    "#plt.plot(tspan*28.85/0.5,array(C7CovSumZ)/N_atom,\"b--\",label=\"CMF=7 Cov(Z)\")\n",
    "\n",
    "#plt.plot(tspan*28.85/0.5,array(C6CovSumX)/N_atom,\"k--\",label=\"CMF=6 Cov(X)\")\n",
    "#plt.plot(tspan*28.85/0.5,array(C6CovSumY)/N_atom,\"r--\",label=\"CMF=6 Cov(Y)\")\n",
    "#plt.plot(tspan*28.85/0.5,array(C6CovSumZ)/N_atom,\"b--\",label=\"CMF=6 Cov(Z)\")\n",
    "\n",
    "#plt.plot(tspan*28.85/0.5,array(C5CovSumX)/N_atom,\"k.-\",label=\"CMF=5 Cov(X)\")\n",
    "#plt.plot(tspan*28.85/0.5,array(C5CovSumY)/N_atom,\"r.-\",label=\"CMF=5 Cov(Y)\")\n",
    "#plt.plot(tspan*28.85/0.5,array(C5CovSumZ)/N_atom,\"b.-\",label=\"CMF=5 Cov(Z)\")\n",
    "\n",
    "#plt.plot(tspan*28.85/0.5,array(P4CovSumX)/N_atom,\"k--\",label=\"CMFP=4 Cov(X)\")\n",
    "#plt.plot(tspan*28.85/0.5,array(P4CovSumY)/N_atom,\"r--\",label=\"CMFP=4 Cov(Y)\")\n",
    "#plt.plot(tspan*28.85/0.5,array(P4CovSumZ)/N_atom,\"b--\",label=\"CMFP=4 Cov(Z)\")\n",
    "\n",
    "\n",
    "#plt.plot(tspan*28.85/0.5,array(C4CovSumX)/N_atom,\"g--\",label=\"CMF=4 Cov(X)\")\n",
    "#plt.plot(tspan*28.85/0.5,array(C4CovSumY)/N_atom,\"c--\",label=\"CMF=4 Cov(Y)\")\n",
    "plt.plot(tspan*28.85/0.5,array(C4CovSumZ)/N_atom,\"m--\",label=\"CMF=4 Cov(Z)\")\n",
    "\n",
    "#plt.plot(tspan*28.85/0.5,array(C3CovSumX)/N_atom,\"k--\",label=\"CMF=3 Cov(X)\")\n",
    "#plt.plot(tspan*28.85/0.5,array(C3CovSumY)/N_atom,\"r--\",label=\"CMF=3 Cov(Y)\")\n",
    "#plt.plot(tspan*28.85/0.5,array(C3CovSumZ)/N_atom,\"b--\",label=\"CMF=3 Cov(Z)\")\n",
    "\n",
    "#plt.plot(tspan*28.85/0.5,array(NECovSumX)/N_atom,\"k-\",label=\"NE Cov(X)\")\n",
    "#plt.plot(tspan*28.85/0.5,array(NECovSumY)/N_atom,\"r-\",label=\"NE Cov(Y)\")\n",
    "#plt.plot(tspan*28.85/0.5,array(NECovSumZ)/N_atom,\"b-\",label=\"NE Cov(Z)\")\n",
    "\n",
    "plt.legend()"
   ]
  },
  {
   "cell_type": "code",
   "execution_count": null,
   "metadata": {},
   "outputs": [],
   "source": [
    "tim=[0,5,10,20,30,60,100]\n",
    "P0=[0.31455,0.29375,0.25433,0.2235,0.211933,0.210725,0.207]\n",
    "P0error=[0.001789,0.0064528,0.00233333,0.008062,0.00837483,0.0068061,0.00692820]\n",
    "\n",
    "\n",
    "\n",
    "tim=[0,5,10,20,30,60,100]\n",
    "P1=[0.230921,0.2289,0.213566,0.19675,0.1896666,0.18825,0.186375]\n",
    "P1error=[0.00739834,0.00516,0.004284,0.00554,0.003179,0.0042784,0.00327766]\n",
    "\n",
    "\n",
    "\n",
    "tim=[0,5,10,20,30,60,100]\n",
    "P2=[0.0912,0.104,0.12293,0.1345,0.1395333,0.1348,0.136]\n",
    "P2error=[0.004084,0.001699673,0.0032255,0.0028480,0.0052234,0.00265162,0.002]\n",
    "\n",
    "\n",
    "tim=[0,5,10,20,30,60,100]\n",
    "P3=[0.01481,0.02335,0.046866,0.07255,0.0888666,0.09025,0.094125]\n",
    "P3error=[0.00079,0.0018532,0.001593,0.0050368,0.008401,0.0054645,0.00650]\n"
   ]
  },
  {
   "cell_type": "code",
   "execution_count": null,
   "metadata": {},
   "outputs": [],
   "source": [
    "plt.plot(tspan*28.85/0.5,Popul_CMFT_fin[0][:-1])\n",
    "plt.plot(tspan*28.85/0.5,Popul_CMFT_fin[1][:-1])\n",
    "plt.plot(tspan*28.85/0.5,Popul_CMFT_fin[2][:-1])\n",
    "plt.plot(tspan*28.85/0.5,Popul_CMFT_fin[3][:-1])\n",
    "\n",
    "\n",
    "plt.errorbar(tim, P0, yerr=P0error, fmt='o', capsize=5,label=\"Experimental $m_S= 0$\")\n",
    "plt.errorbar(tim, P1, yerr=P1error, fmt='o', capsize=5,label=\"Experimental $m_S=-1$\")\n",
    "plt.errorbar(tim, P2, yerr=P2error, fmt='o', capsize=5,label=\"Experimental $m_S=-2$\")\n",
    "plt.errorbar(tim, P3, yerr=P3error, fmt='o', capsize=5,label=\"Experimental $m_S=-3$\")\n"
   ]
  },
  {
   "cell_type": "code",
   "execution_count": null,
   "metadata": {},
   "outputs": [],
   "source": [
    "P0"
   ]
  },
  {
   "cell_type": "code",
   "execution_count": null,
   "metadata": {},
   "outputs": [],
   "source": []
  },
  {
   "cell_type": "code",
   "execution_count": null,
   "metadata": {},
   "outputs": [],
   "source": [
    "ms_cuad=np.linspace(-S_spin,S_spin,int(2*S_spin)+1)\n",
    "\n",
    "\n",
    "plt.plot(tspan[1:]*28.85/0.5,real((ms_cuad**2)@Popul_CMFT_fin)[1:-1])\n",
    "plt.plot(tspan[1:]*28.85/0.5,array(C4CovSumZ)[1:]/N_atom,\"m--\",label=\"CMF=4 Cov(Z)\")"
   ]
  },
  {
   "cell_type": "code",
   "execution_count": null,
   "metadata": {},
   "outputs": [],
   "source": []
  },
  {
   "cell_type": "code",
   "execution_count": null,
   "metadata": {},
   "outputs": [],
   "source": []
  },
  {
   "cell_type": "code",
   "execution_count": null,
   "metadata": {},
   "outputs": [],
   "source": []
  },
  {
   "cell_type": "code",
   "execution_count": null,
   "metadata": {},
   "outputs": [],
   "source": []
  },
  {
   "cell_type": "code",
   "execution_count": null,
   "metadata": {},
   "outputs": [],
   "source": []
  },
  {
   "cell_type": "code",
   "execution_count": null,
   "metadata": {},
   "outputs": [],
   "source": []
  },
  {
   "cell_type": "code",
   "execution_count": null,
   "metadata": {},
   "outputs": [],
   "source": []
  },
  {
   "cell_type": "code",
   "execution_count": null,
   "metadata": {},
   "outputs": [],
   "source": []
  },
  {
   "cell_type": "code",
   "execution_count": null,
   "metadata": {},
   "outputs": [],
   "source": []
  },
  {
   "cell_type": "code",
   "execution_count": null,
   "metadata": {},
   "outputs": [],
   "source": []
  },
  {
   "cell_type": "code",
   "execution_count": null,
   "metadata": {},
   "outputs": [],
   "source": []
  },
  {
   "cell_type": "code",
   "execution_count": null,
   "metadata": {},
   "outputs": [],
   "source": []
  },
  {
   "cell_type": "code",
   "execution_count": null,
   "metadata": {},
   "outputs": [],
   "source": []
  },
  {
   "cell_type": "code",
   "execution_count": null,
   "metadata": {},
   "outputs": [],
   "source": [
    "#Popul_CMFT,Mean_Val_XYZ,tnew,Corr_X_matr,Corr_Y_matr,Corr_Z_matr"
   ]
  },
  {
   "cell_type": "code",
   "execution_count": null,
   "metadata": {},
   "outputs": [],
   "source": []
  },
  {
   "cell_type": "code",
   "execution_count": null,
   "metadata": {},
   "outputs": [],
   "source": [
    "Sx_v=[]\n",
    "Sy_v=[]\n",
    "Sz_v=[]\n",
    "\n",
    "\n",
    "for j in range(int(Mean_Val_XYZ.shape[1]/3)):\n",
    "    \n",
    "    Sx_v.append(np.sum(Mean_Val_XYZ_fin[:,0+3*j]))\n",
    "    Sy_v.append(np.sum(Mean_Val_XYZ_fin[:,1+3*j]))\n",
    "    Sz_v.append(np.sum(Mean_Val_XYZ_fin[:,2+3*j]))\n",
    "\n"
   ]
  },
  {
   "cell_type": "code",
   "execution_count": null,
   "metadata": {},
   "outputs": [],
   "source": []
  },
  {
   "cell_type": "code",
   "execution_count": null,
   "metadata": {},
   "outputs": [],
   "source": [
    "#NESx_v=Sx_v\n",
    "#NESy_v=Sy_v\n",
    "#NESz_v=Sz_v"
   ]
  },
  {
   "cell_type": "code",
   "execution_count": null,
   "metadata": {},
   "outputs": [],
   "source": [
    "C4PSx_v=Sx_v\n",
    "C4PSy_v=Sy_v\n",
    "C4PSz_v=Sz_v"
   ]
  },
  {
   "cell_type": "code",
   "execution_count": null,
   "metadata": {},
   "outputs": [],
   "source": [
    "\n",
    "\n",
    "#plt.plot(tspan*28.85/0.5,real(C5Sx_v)/N_atom,label=\"C5 $S_x$\")\n",
    "#plt.plot(tspan*28.85/0.5,real(C5Sy_v)/N_atom,label=\"C5 $S_y$\")\n",
    "#plt.plot(tspan*28.85/0.5,real(C5Sz_v)/N_atom,label=\"C5 $S_z$\")\n",
    "\n",
    "\n",
    "plt.plot(tspan*28.85/0.5,real(C4PSx_v)/N_atom,label=\"C4P $S_x$\")\n",
    "plt.plot(tspan*28.85/0.5,real(C4PSy_v)/N_atom,label=\"C4P $S_y$\")\n",
    "plt.plot(tspan*28.85/0.5,real(C4PSz_v)/N_atom,label=\"C4P $S_z$\")\n",
    "\n",
    "plt.plot(tspan*28.85/0.5,real(C4Sx_v)/N_atom,label=\"C4 $S_x$\")\n",
    "plt.plot(tspan*28.85/0.5,real(C4Sy_v)/N_atom,label=\"C4 $S_y$\")\n",
    "plt.plot(tspan*28.85/0.5,real(C4Sz_v)/N_atom,label=\"C4 $S_z$\")\n",
    "\n",
    "plt.plot(tspan*28.85/0.5,real(C3Sx_v)/N_atom,label=\"C3 $S_x$\")\n",
    "plt.plot(tspan*28.85/0.5,real(C3Sy_v)/N_atom,label=\"C3 $S_y$\")\n",
    "plt.plot(tspan*28.85/0.5,real(C3Sz_v)/N_atom,label=\"C3 $S_z$\")\n",
    "\n",
    "\n",
    "plt.legend()"
   ]
  },
  {
   "cell_type": "code",
   "execution_count": null,
   "metadata": {},
   "outputs": [],
   "source": [
    "\n"
   ]
  },
  {
   "cell_type": "code",
   "execution_count": null,
   "metadata": {},
   "outputs": [],
   "source": []
  },
  {
   "cell_type": "code",
   "execution_count": null,
   "metadata": {},
   "outputs": [],
   "source": []
  },
  {
   "cell_type": "code",
   "execution_count": null,
   "metadata": {},
   "outputs": [],
   "source": []
  },
  {
   "cell_type": "code",
   "execution_count": null,
   "metadata": {},
   "outputs": [],
   "source": []
  },
  {
   "cell_type": "code",
   "execution_count": null,
   "metadata": {},
   "outputs": [],
   "source": []
  },
  {
   "cell_type": "code",
   "execution_count": null,
   "metadata": {},
   "outputs": [],
   "source": []
  },
  {
   "cell_type": "code",
   "execution_count": null,
   "metadata": {},
   "outputs": [],
   "source": []
  },
  {
   "cell_type": "code",
   "execution_count": null,
   "metadata": {},
   "outputs": [],
   "source": []
  },
  {
   "cell_type": "code",
   "execution_count": null,
   "metadata": {},
   "outputs": [],
   "source": []
  },
  {
   "cell_type": "code",
   "execution_count": null,
   "metadata": {},
   "outputs": [],
   "source": []
  },
  {
   "cell_type": "code",
   "execution_count": null,
   "metadata": {},
   "outputs": [],
   "source": []
  },
  {
   "cell_type": "code",
   "execution_count": null,
   "metadata": {},
   "outputs": [],
   "source": []
  },
  {
   "cell_type": "code",
   "execution_count": null,
   "metadata": {},
   "outputs": [],
   "source": []
  },
  {
   "cell_type": "code",
   "execution_count": null,
   "metadata": {},
   "outputs": [],
   "source": []
  },
  {
   "cell_type": "code",
   "execution_count": null,
   "metadata": {},
   "outputs": [],
   "source": []
  },
  {
   "cell_type": "code",
   "execution_count": null,
   "metadata": {},
   "outputs": [],
   "source": []
  },
  {
   "cell_type": "code",
   "execution_count": null,
   "metadata": {},
   "outputs": [],
   "source": []
  },
  {
   "cell_type": "code",
   "execution_count": null,
   "metadata": {},
   "outputs": [],
   "source": []
  },
  {
   "cell_type": "code",
   "execution_count": null,
   "metadata": {},
   "outputs": [],
   "source": []
  },
  {
   "cell_type": "code",
   "execution_count": null,
   "metadata": {},
   "outputs": [],
   "source": []
  },
  {
   "cell_type": "code",
   "execution_count": null,
   "metadata": {},
   "outputs": [],
   "source": []
  },
  {
   "cell_type": "code",
   "execution_count": null,
   "metadata": {},
   "outputs": [],
   "source": []
  },
  {
   "cell_type": "code",
   "execution_count": null,
   "metadata": {},
   "outputs": [],
   "source": []
  },
  {
   "cell_type": "code",
   "execution_count": null,
   "metadata": {},
   "outputs": [],
   "source": []
  },
  {
   "cell_type": "code",
   "execution_count": null,
   "metadata": {},
   "outputs": [],
   "source": []
  },
  {
   "cell_type": "code",
   "execution_count": null,
   "metadata": {},
   "outputs": [],
   "source": []
  },
  {
   "cell_type": "code",
   "execution_count": null,
   "metadata": {},
   "outputs": [],
   "source": []
  },
  {
   "cell_type": "code",
   "execution_count": null,
   "metadata": {},
   "outputs": [],
   "source": []
  },
  {
   "cell_type": "code",
   "execution_count": null,
   "metadata": {},
   "outputs": [],
   "source": []
  },
  {
   "cell_type": "code",
   "execution_count": null,
   "metadata": {},
   "outputs": [],
   "source": []
  },
  {
   "cell_type": "code",
   "execution_count": null,
   "metadata": {},
   "outputs": [],
   "source": []
  },
  {
   "cell_type": "code",
   "execution_count": null,
   "metadata": {},
   "outputs": [],
   "source": [
    "import matplotlib.pyplot as plt\n",
    "import matplotlib\n",
    "\n",
    "matplotlib.rcParams['text.usetex'] = False\n",
    "matplotlib.rcParams['mathtext.fontset'] = 'stix'\n",
    "matplotlib.rcParams['font.family'] = 'STIXGeneral'\n",
    "matplotlib.rcParams['font.size'] = 15\n",
    "matplotlib.rcParams['figure.figsize'] = (11.0, 8.0)\n",
    "\n",
    "label_size = 20\n",
    "\n",
    "\n"
   ]
  },
  {
   "cell_type": "code",
   "execution_count": null,
   "metadata": {},
   "outputs": [],
   "source": []
  },
  {
   "cell_type": "code",
   "execution_count": null,
   "metadata": {},
   "outputs": [],
   "source": [
    "tspan=np.linspace(0,2.00,200)"
   ]
  },
  {
   "cell_type": "code",
   "execution_count": null,
   "metadata": {},
   "outputs": [],
   "source": [
    "plt.plot(28.85*tspan/0.5,real(Sx_v))\n",
    "plt.plot(28.85*tspan/0.5,real(Sy_v))\n",
    "plt.plot(28.85*tspan/0.5,real(Sz_v))"
   ]
  },
  {
   "cell_type": "code",
   "execution_count": null,
   "metadata": {},
   "outputs": [],
   "source": []
  },
  {
   "cell_type": "code",
   "execution_count": null,
   "metadata": {},
   "outputs": [],
   "source": []
  },
  {
   "cell_type": "code",
   "execution_count": null,
   "metadata": {},
   "outputs": [],
   "source": [
    "Popul_CMFT_fin.shape"
   ]
  },
  {
   "cell_type": "code",
   "execution_count": null,
   "metadata": {},
   "outputs": [],
   "source": []
  },
  {
   "cell_type": "code",
   "execution_count": null,
   "metadata": {},
   "outputs": [],
   "source": []
  },
  {
   "cell_type": "code",
   "execution_count": null,
   "metadata": {},
   "outputs": [],
   "source": [
    "plt.plot(Popul_CMFT_fin[0][:-1])\n",
    "plt.plot(Popul_CMFT_fin[1][:-1])\n",
    "plt.plot(Popul_CMFT_fin[2][:-1])"
   ]
  },
  {
   "cell_type": "code",
   "execution_count": null,
   "metadata": {},
   "outputs": [],
   "source": []
  },
  {
   "cell_type": "code",
   "execution_count": null,
   "metadata": {},
   "outputs": [],
   "source": []
  },
  {
   "cell_type": "code",
   "execution_count": null,
   "metadata": {},
   "outputs": [],
   "source": []
  },
  {
   "cell_type": "code",
   "execution_count": null,
   "metadata": {},
   "outputs": [],
   "source": [
    "plt.plot(Popul_CMFT_fin[0][:-1])\n",
    "plt.plot(Popul_CMFT_fin[1][:-1])\n",
    "plt.plot(Popul_CMFT_fin[2][:-1])"
   ]
  },
  {
   "cell_type": "code",
   "execution_count": null,
   "metadata": {},
   "outputs": [],
   "source": []
  },
  {
   "cell_type": "code",
   "execution_count": null,
   "metadata": {},
   "outputs": [],
   "source": []
  },
  {
   "cell_type": "code",
   "execution_count": null,
   "metadata": {},
   "outputs": [],
   "source": []
  },
  {
   "cell_type": "code",
   "execution_count": null,
   "metadata": {},
   "outputs": [],
   "source": [
    "Corr_summ_XX_fin"
   ]
  },
  {
   "cell_type": "code",
   "execution_count": null,
   "metadata": {},
   "outputs": [],
   "source": []
  },
  {
   "cell_type": "code",
   "execution_count": null,
   "metadata": {},
   "outputs": [],
   "source": []
  },
  {
   "cell_type": "code",
   "execution_count": null,
   "metadata": {},
   "outputs": [],
   "source": []
  },
  {
   "cell_type": "code",
   "execution_count": null,
   "metadata": {},
   "outputs": [],
   "source": []
  },
  {
   "cell_type": "code",
   "execution_count": null,
   "metadata": {},
   "outputs": [],
   "source": []
  },
  {
   "cell_type": "code",
   "execution_count": null,
   "metadata": {},
   "outputs": [],
   "source": []
  },
  {
   "cell_type": "code",
   "execution_count": null,
   "metadata": {},
   "outputs": [],
   "source": [
    "len(tspan)"
   ]
  },
  {
   "cell_type": "code",
   "execution_count": null,
   "metadata": {},
   "outputs": [],
   "source": [
    "len(Popul_CMFT_fin[0])"
   ]
  },
  {
   "cell_type": "code",
   "execution_count": null,
   "metadata": {},
   "outputs": [],
   "source": []
  },
  {
   "cell_type": "code",
   "execution_count": null,
   "metadata": {},
   "outputs": [],
   "source": [
    "#P0\n",
    "\n",
    "#0\t0.314550666666667\t0.00178938549352689\n",
    "#5\t0.29375\t0.00645282022753531\n",
    "#10\t0.254333333333333\t0.00233333333333334\n",
    "#20\t0.2235\t0.00806225774829855\n",
    "#30\t0.211933333333333\t0.00837483001485868\n",
    "#60\t0.210725\t0.00680610428626799\n",
    "#100\t0.207\t0.00692820323027551\n",
    "\n",
    "\n"
   ]
  },
  {
   "cell_type": "code",
   "execution_count": null,
   "metadata": {},
   "outputs": [],
   "source": []
  },
  {
   "cell_type": "code",
   "execution_count": null,
   "metadata": {},
   "outputs": [],
   "source": [
    "tim=[0,5,10,20,30,60,100]\n",
    "P0=[0.31455,0.29375,0.25433,0.2235,0.211933,0.210725,0.207]\n",
    "P0error=[0.001789,0.0064528,0.00233333,0.008062,0.00837483,0.0068061,0.00692820]\n",
    "\n",
    "\n",
    "\n",
    "tim=[0,5,10,20,30,60,100]\n",
    "P1=[0.230921,0.2289,0.213566,0.19675,0.1896666,0.18825,0.186375]\n",
    "P1error=[0.00739834,0.00516,0.004284,0.00554,0.003179,0.0042784,0.00327766]\n",
    "\n",
    "\n",
    "\n",
    "tim=[0,5,10,20,30,60,100]\n",
    "P2=[0.0912,0.104,0.12293,0.1345,0.1395333,0.1348,0.136]\n",
    "P2error=[0.004084,0.001699673,0.0032255,0.0028480,0.0052234,0.00265162,0.002]\n",
    "\n",
    "\n",
    "tim=[0,5,10,20,30,60,100]\n",
    "P3=[0.01481,0.02335,0.046866,0.07255,0.0888666,0.09025,0.094125]\n",
    "P3error=[0.00079,0.0018532,0.001593,0.0050368,0.008401,0.0054645,0.00650]\n"
   ]
  },
  {
   "cell_type": "code",
   "execution_count": null,
   "metadata": {},
   "outputs": [],
   "source": [
    "Atom_cutoff_"
   ]
  },
  {
   "cell_type": "code",
   "execution_count": null,
   "metadata": {},
   "outputs": [],
   "source": [
    "#P0r=real(Popul_CMFT_fin[3])[:-1]\n",
    "#P1r=(real(Popul_CMFT_fin[4])[:-1]+real(Popul_CMFT_fin[2])[:-1])/2\n",
    "#P2r=(real(Popul_CMFT_fin[5])[:-1]+real(Popul_CMFT_fin[1])[:-1])/2\n",
    "#P3r=(real(Popul_CMFT_fin[6])[:-1]+real(Popul_CMFT_fin[0])[:-1])/2\n",
    "\n"
   ]
  },
  {
   "cell_type": "code",
   "execution_count": null,
   "metadata": {},
   "outputs": [],
   "source": []
  },
  {
   "cell_type": "code",
   "execution_count": null,
   "metadata": {},
   "outputs": [],
   "source": [
    "#P0rC2=real(Popul_CMFT_fin[3])[:-1]\n",
    "#P1rC2=(real(Popul_CMFT_fin[4])[:-1]+real(Popul_CMFT_fin[2])[:-1])/2\n",
    "#P2rC2=(real(Popul_CMFT_fin[5])[:-1]+real(Popul_CMFT_fin[1])[:-1])/2\n",
    "#P3rC2=(real(Popul_CMFT_fin[6])[:-1]+real(Popul_CMFT_fin[0])[:-1])/2\n"
   ]
  },
  {
   "cell_type": "code",
   "execution_count": null,
   "metadata": {},
   "outputs": [],
   "source": []
  },
  {
   "cell_type": "code",
   "execution_count": null,
   "metadata": {},
   "outputs": [],
   "source": [
    "P0rC5=real(Popul_CMFT_fin[3])[:-1]\n",
    "P1rC5=(real(Popul_CMFT_fin[4])[:-1]+real(Popul_CMFT_fin[2])[:-1])/2\n",
    "P2rC5=(real(Popul_CMFT_fin[5])[:-1]+real(Popul_CMFT_fin[1])[:-1])/2\n",
    "P3rC5=(real(Popul_CMFT_fin[6])[:-1]+real(Popul_CMFT_fin[0])[:-1])/2\n"
   ]
  },
  {
   "cell_type": "code",
   "execution_count": null,
   "metadata": {},
   "outputs": [],
   "source": []
  },
  {
   "cell_type": "code",
   "execution_count": null,
   "metadata": {},
   "outputs": [],
   "source": [
    "Atom_cutoff_"
   ]
  },
  {
   "cell_type": "code",
   "execution_count": null,
   "metadata": {},
   "outputs": [],
   "source": []
  },
  {
   "cell_type": "code",
   "execution_count": null,
   "metadata": {},
   "outputs": [],
   "source": [
    "#P0rC3=real(Popul_CMFT_fin[3])[:-1]\n",
    "#P1rC3=(real(Popul_CMFT_fin[4])[:-1]+real(Popul_CMFT_fin[2])[:-1])/2\n",
    "#P2rC3=(real(Popul_CMFT_fin[5])[:-1]+real(Popul_CMFT_fin[1])[:-1])/2\n",
    "#P3rC3=(real(Popul_CMFT_fin[6])[:-1]+real(Popul_CMFT_fin[0])[:-1])/2\n"
   ]
  },
  {
   "cell_type": "code",
   "execution_count": null,
   "metadata": {},
   "outputs": [],
   "source": []
  },
  {
   "cell_type": "code",
   "execution_count": null,
   "metadata": {},
   "outputs": [],
   "source": [
    "plt.title(\"TWA+Perturbation-coupling population dynamics for a $N=192$ lattice, $B_Q$=\"+str(B_q)+\"$, C_s=$\"+str(Atom_cutoff_))\n",
    "\n",
    "\n",
    "\n",
    "plt.plot(tspan*28.85/0.5,P0rC2,\"--\",label=\"$m_S$=\"+str(0)+\", TWA+P C=2\")\n",
    "plt.plot(tspan*28.85/0.5,P1rC2,\"--\",label=\"$m_S$=\"+str(1)+\", TWA+P C=2\")\n",
    "plt.plot(tspan*28.85/0.5,P2rC2,\"--\",label=\"$m_S$=\"+str(2)+\", TWA+P C=2\")\n",
    "plt.plot(tspan*28.85/0.5,P3rC2,\"--\",label=\"$m_S$=\"+str(3)+\", TWA+P C=2\")\n",
    "\n",
    "plt.plot(tspan*28.85/0.5,P0rC3,\"--\",label=\"$m_S$=\"+str(0)+\", TWA+P C=3\")\n",
    "plt.plot(tspan*28.85/0.5,P1rC3,\"--\",label=\"$m_S$=\"+str(1)+\", TWA+P C=3\")\n",
    "plt.plot(tspan*28.85/0.5,P2rC3,\"--\",label=\"$m_S$=\"+str(2)+\", TWA+P C=3\")\n",
    "plt.plot(tspan*28.85/0.5,P3rC3,\"--\",label=\"$m_S$=\"+str(3)+\", TWA+P C=3\")\n",
    "\n",
    "\n",
    "plt.plot(tspan*28.85/0.5,P0rC4,\"--\",label=\"$m_S$=\"+str(0)+\", TWA+P C=4\")\n",
    "plt.plot(tspan*28.85/0.5,P1rC4,\"--\",label=\"$m_S$=\"+str(1)+\", TWA+P C=4\")\n",
    "plt.plot(tspan*28.85/0.5,P2rC4,\"--\",label=\"$m_S$=\"+str(2)+\", TWA+P C=4\")\n",
    "plt.plot(tspan*28.85/0.5,P3rC4,\"--\",label=\"$m_S$=\"+str(3)+\", TWA+P C=4\")\n",
    "\n",
    "\n",
    "plt.plot(tspan*28.85/0.5,P0rC5,\"-\",label=\"$m_S$=\"+str(0)+\", TWA+P C=5\")\n",
    "plt.plot(tspan*28.85/0.5,P1rC5,\"-\",label=\"$m_S$=\"+str(1)+\", TWA+P C=5\")\n",
    "plt.plot(tspan*28.85/0.5,P2rC5,\"-\",label=\"$m_S$=\"+str(2)+\", TWA+P C=5\")\n",
    "plt.plot(tspan*28.85/0.5,P3rC5,\"-\",label=\"$m_S$=\"+str(3)+\", TWA+P C=5\")\n",
    "\n",
    "\n",
    "#plt.plot(tspan*28.85/0.5,P0rPert,\"-.\",label=\"$m_S$=\"+str(0)+\", TWA+Pert C=2\")\n",
    "#plt.plot(tspan*28.85/0.5,P1rPert,\"-.\",label=\"$m_S$=\"+str(1)+\", TWA+Pert C=2\")\n",
    "#plt.plot(tspan*28.85/0.5,P2rPert,\"-.\",label=\"$m_S$=\"+str(2)+\", TWA+Pert C=2\")\n",
    "#plt.plot(tspan*28.85/0.5,P3rPert,\"-.\",label=\"$m_S$=\"+str(3)+\", TWA+Pert C=2\")\n",
    "\n",
    "\n",
    "\n",
    "plt.xlabel(\"t(ms)\",fontsize=20)\n",
    "plt.ylabel(\"$\\\\left< m_s \\\\right>$\",fontsize=20)\n",
    "#plt.ylim(0,1)\n",
    "\n",
    "plt.legend(loc=\"upper left\", bbox_to_anchor=(1,1))"
   ]
  },
  {
   "cell_type": "code",
   "execution_count": null,
   "metadata": {},
   "outputs": [],
   "source": []
  },
  {
   "cell_type": "code",
   "execution_count": null,
   "metadata": {},
   "outputs": [],
   "source": []
  },
  {
   "cell_type": "code",
   "execution_count": null,
   "metadata": {},
   "outputs": [],
   "source": []
  },
  {
   "cell_type": "code",
   "execution_count": null,
   "metadata": {},
   "outputs": [],
   "source": []
  },
  {
   "cell_type": "code",
   "execution_count": null,
   "metadata": {},
   "outputs": [],
   "source": [
    "plt.title(\"TWA+Perturbation-coupling population dynamics for a $N=192$ lattice, $B_Q$=\"+str(B_q)+\"$, C_s=$\"+str(Atom_cutoff_))\n",
    "\n",
    "\n",
    "\n",
    "plt.plot(tspan*28.85/0.5,P0rC2,\"--\",label=\"$m_S$=\"+str(0)+\", TWA+P C=2\")\n",
    "plt.plot(tspan*28.85/0.5,P1rC2,\"--\",label=\"$m_S$=\"+str(1)+\", TWA+P C=2\")\n",
    "plt.plot(tspan*28.85/0.5,P2rC2,\"--\",label=\"$m_S$=\"+str(2)+\", TWA+P C=2\")\n",
    "plt.plot(tspan*28.85/0.5,P3rC2,\"--\",label=\"$m_S$=\"+str(3)+\", TWA+P C=2\")\n",
    "\n",
    "plt.plot(tspan*28.85/0.5,P0rC3,\"-\",label=\"$m_S$=\"+str(0)+\", TWA+P C=3\")\n",
    "plt.plot(tspan*28.85/0.5,P1rC3,\"-\",label=\"$m_S$=\"+str(1)+\", TWA+P C=3\")\n",
    "plt.plot(tspan*28.85/0.5,P2rC3,\"-\",label=\"$m_S$=\"+str(2)+\", TWA+P C=3\")\n",
    "plt.plot(tspan*28.85/0.5,P3rC3,\"-\",label=\"$m_S$=\"+str(3)+\", TWA+P C=3\")\n",
    "\n",
    "\n",
    "plt.plot(tspan*28.85/0.5,P0rC4,\"-\",label=\"$m_S$=\"+str(0)+\", TWA+P C=4\")\n",
    "plt.plot(tspan*28.85/0.5,P1rC4,\"-\",label=\"$m_S$=\"+str(1)+\", TWA+P C=4\")\n",
    "plt.plot(tspan*28.85/0.5,P2rC4,\"-\",label=\"$m_S$=\"+str(2)+\", TWA+P C=4\")\n",
    "plt.plot(tspan*28.85/0.5,P3rC4,\"-\",label=\"$m_S$=\"+str(3)+\", TWA+P C=4\")\n",
    "\n",
    "\n",
    "plt.plot(tspan*28.85/0.5,P0rC5,\"-\",label=\"$m_S$=\"+str(0)+\", TWA+P C=5\")\n",
    "plt.plot(tspan*28.85/0.5,P1rC5,\"-\",label=\"$m_S$=\"+str(1)+\", TWA+P C=5\")\n",
    "plt.plot(tspan*28.85/0.5,P2rC5,\"-\",label=\"$m_S$=\"+str(2)+\", TWA+P C=5\")\n",
    "plt.plot(tspan*28.85/0.5,P3rC5,\"-\",label=\"$m_S$=\"+str(3)+\", TWA+P C=5\")\n",
    "\n",
    "\n",
    "#plt.plot(tspan*28.85/0.5,P0rPert,\"-.\",label=\"$m_S$=\"+str(0)+\", TWA+Pert C=2\")\n",
    "#plt.plot(tspan*28.85/0.5,P1rPert,\"-.\",label=\"$m_S$=\"+str(1)+\", TWA+Pert C=2\")\n",
    "#plt.plot(tspan*28.85/0.5,P2rPert,\"-.\",label=\"$m_S$=\"+str(2)+\", TWA+Pert C=2\")\n",
    "#plt.plot(tspan*28.85/0.5,P3rPert,\"-.\",label=\"$m_S$=\"+str(3)+\", TWA+Pert C=2\")\n",
    "\n",
    "\n",
    "\n",
    "plt.xlabel(\"t(ms)\",fontsize=20)\n",
    "plt.ylabel(\"$\\\\left< m_s \\\\right>$\",fontsize=20)\n",
    "#plt.ylim(0,1)\n",
    "\n",
    "plt.legend(loc=\"upper left\", bbox_to_anchor=(1,1))"
   ]
  },
  {
   "cell_type": "code",
   "execution_count": null,
   "metadata": {},
   "outputs": [],
   "source": []
  },
  {
   "cell_type": "code",
   "execution_count": null,
   "metadata": {},
   "outputs": [],
   "source": []
  },
  {
   "cell_type": "code",
   "execution_count": null,
   "metadata": {},
   "outputs": [],
   "source": []
  },
  {
   "cell_type": "code",
   "execution_count": null,
   "metadata": {},
   "outputs": [],
   "source": []
  },
  {
   "cell_type": "code",
   "execution_count": null,
   "metadata": {},
   "outputs": [],
   "source": []
  },
  {
   "cell_type": "code",
   "execution_count": null,
   "metadata": {},
   "outputs": [],
   "source": []
  },
  {
   "cell_type": "code",
   "execution_count": null,
   "metadata": {},
   "outputs": [],
   "source": []
  },
  {
   "cell_type": "code",
   "execution_count": null,
   "metadata": {},
   "outputs": [],
   "source": [
    "#P0rPert=real(Popul_CMFT_fin[3])[:-1]\n",
    "#P1rPert=(real(Popul_CMFT_fin[4])[:-1]+real(Popul_CMFT_fin[2])[:-1])/2\n",
    "#P2rPert=(real(Popul_CMFT_fin[5])[:-1]+real(Popul_CMFT_fin[1])[:-1])/2\n",
    "#P3rPert=(real(Popul_CMFT_fin[6])[:-1]+real(Popul_CMFT_fin[0])[:-1])/2\n",
    "\n"
   ]
  },
  {
   "cell_type": "code",
   "execution_count": null,
   "metadata": {},
   "outputs": [],
   "source": []
  },
  {
   "cell_type": "code",
   "execution_count": null,
   "metadata": {},
   "outputs": [],
   "source": []
  },
  {
   "cell_type": "code",
   "execution_count": null,
   "metadata": {},
   "outputs": [],
   "source": [
    "real(Popul_CMFT_fin[0])[:-1]+real(Popul_CMFT_fin[1])[:-1]+real(Popul_CMFT_fin[2])[:-1]+real(Popul_CMFT_fin[3])[:-1]+real(Popul_CMFT_fin[3])[:-1]+real(Popul_CMFT_fin[3])[:-1]\n",
    "\n",
    "SumVal=real(Popul_CMFT_fin[0])[:-1]\n",
    "\n",
    "\n",
    "for j in range(1,7):\n",
    "    \n",
    "    SumVal=SumVal+real(Popul_CMFT_fin[j])[:-1]\n",
    "    "
   ]
  },
  {
   "cell_type": "code",
   "execution_count": null,
   "metadata": {},
   "outputs": [],
   "source": []
  },
  {
   "cell_type": "code",
   "execution_count": null,
   "metadata": {},
   "outputs": [],
   "source": [
    "plt.title(\"TWA+Perturbation-coupling population dynamics for a $N=192$ lattice, $B_Q$=\"+str(B_q)+\"$, C_s=$\"+str(Atom_cutoff_))\n",
    "\n",
    "\n",
    "\n",
    "plt.plot(tspan*28.85/0.5,P0r,\"-.\",label=\"$m_S$=\"+str(0)+\", TWA+Pert C=4\")\n",
    "plt.plot(tspan*28.85/0.5,P1r,\"-.\",label=\"$m_S$=\"+str(1)+\", TWA+Pert C=4\")\n",
    "plt.plot(tspan*28.85/0.5,P2r,\"-.\",label=\"$m_S$=\"+str(2)+\", TWA+Pert C=4\")\n",
    "plt.plot(tspan*28.85/0.5,P3r,\"-.\",label=\"$m_S$=\"+str(3)+\", TWA+Pert C=4\")\n",
    "\n",
    "\n",
    "\n",
    "plt.xlabel(\"t(ms)\",fontsize=20)\n",
    "plt.ylabel(\"$\\\\left< m_s \\\\right>$\",fontsize=20)\n",
    "#plt.ylim(0,1)\n",
    "\n",
    "plt.legend(loc=\"upper left\", bbox_to_anchor=(1,1))"
   ]
  },
  {
   "cell_type": "code",
   "execution_count": null,
   "metadata": {},
   "outputs": [],
   "source": []
  },
  {
   "cell_type": "code",
   "execution_count": null,
   "metadata": {},
   "outputs": [],
   "source": []
  },
  {
   "cell_type": "code",
   "execution_count": null,
   "metadata": {},
   "outputs": [],
   "source": []
  },
  {
   "cell_type": "code",
   "execution_count": null,
   "metadata": {},
   "outputs": [],
   "source": []
  },
  {
   "cell_type": "code",
   "execution_count": null,
   "metadata": {},
   "outputs": [],
   "source": [
    "plt.title(\"TWA+Perturbation-coupling population dynamics for a $N=192$ lattice, $B_Q$=\"+str(B_q)+\"$, C_s=$\"+str(Atom_cutoff_))\n",
    "\n",
    "\n",
    "\n",
    "plt.plot(tspan*28.85/0.5,P0rC3,\"-\",label=\"$m_S$=\"+str(0)+\", TWA+P C=3\")\n",
    "plt.plot(tspan*28.85/0.5,P1rC3,\"-\",label=\"$m_S$=\"+str(1)+\", TWA+P C=3\")\n",
    "plt.plot(tspan*28.85/0.5,P2rC3,\"-\",label=\"$m_S$=\"+str(2)+\", TWA+P C=3\")\n",
    "plt.plot(tspan*28.85/0.5,P3rC3,\"-\",label=\"$m_S$=\"+str(3)+\", TWA+P C=3\")\n",
    "\n",
    "\n",
    "#plt.plot(tspan*28.85/0.5,P0rPert,\"-.\",label=\"$m_S$=\"+str(0)+\", TWA+Pert C=2\")\n",
    "#plt.plot(tspan*28.85/0.5,P1rPert,\"-.\",label=\"$m_S$=\"+str(1)+\", TWA+Pert C=2\")\n",
    "#plt.plot(tspan*28.85/0.5,P2rPert,\"-.\",label=\"$m_S$=\"+str(2)+\", TWA+Pert C=2\")\n",
    "#plt.plot(tspan*28.85/0.5,P3rPert,\"-.\",label=\"$m_S$=\"+str(3)+\", TWA+Pert C=2\")\n",
    "\n",
    "\n",
    "\n",
    "plt.xlabel(\"t(ms)\",fontsize=20)\n",
    "plt.ylabel(\"$\\\\left< m_s \\\\right>$\",fontsize=20)\n",
    "#plt.ylim(0,1)\n",
    "\n",
    "plt.legend(loc=\"upper left\", bbox_to_anchor=(1,1))"
   ]
  },
  {
   "cell_type": "code",
   "execution_count": null,
   "metadata": {},
   "outputs": [],
   "source": []
  },
  {
   "cell_type": "code",
   "execution_count": null,
   "metadata": {},
   "outputs": [],
   "source": []
  },
  {
   "cell_type": "code",
   "execution_count": null,
   "metadata": {},
   "outputs": [],
   "source": []
  },
  {
   "cell_type": "code",
   "execution_count": null,
   "metadata": {},
   "outputs": [],
   "source": []
  },
  {
   "cell_type": "code",
   "execution_count": null,
   "metadata": {},
   "outputs": [],
   "source": []
  },
  {
   "cell_type": "code",
   "execution_count": null,
   "metadata": {},
   "outputs": [],
   "source": []
  },
  {
   "cell_type": "code",
   "execution_count": null,
   "metadata": {},
   "outputs": [],
   "source": []
  },
  {
   "cell_type": "code",
   "execution_count": null,
   "metadata": {},
   "outputs": [],
   "source": []
  },
  {
   "cell_type": "code",
   "execution_count": null,
   "metadata": {},
   "outputs": [],
   "source": []
  },
  {
   "cell_type": "code",
   "execution_count": null,
   "metadata": {},
   "outputs": [],
   "source": []
  },
  {
   "cell_type": "code",
   "execution_count": null,
   "metadata": {},
   "outputs": [],
   "source": []
  },
  {
   "cell_type": "code",
   "execution_count": null,
   "metadata": {},
   "outputs": [],
   "source": []
  },
  {
   "cell_type": "code",
   "execution_count": null,
   "metadata": {},
   "outputs": [],
   "source": []
  },
  {
   "cell_type": "code",
   "execution_count": null,
   "metadata": {},
   "outputs": [],
   "source": []
  },
  {
   "cell_type": "code",
   "execution_count": null,
   "metadata": {},
   "outputs": [],
   "source": []
  },
  {
   "cell_type": "code",
   "execution_count": null,
   "metadata": {},
   "outputs": [],
   "source": []
  },
  {
   "cell_type": "code",
   "execution_count": null,
   "metadata": {},
   "outputs": [],
   "source": []
  },
  {
   "cell_type": "code",
   "execution_count": null,
   "metadata": {},
   "outputs": [],
   "source": []
  },
  {
   "cell_type": "code",
   "execution_count": null,
   "metadata": {},
   "outputs": [],
   "source": []
  },
  {
   "cell_type": "code",
   "execution_count": null,
   "metadata": {},
   "outputs": [],
   "source": []
  },
  {
   "cell_type": "code",
   "execution_count": null,
   "metadata": {},
   "outputs": [],
   "source": []
  },
  {
   "cell_type": "code",
   "execution_count": null,
   "metadata": {},
   "outputs": [],
   "source": []
  },
  {
   "cell_type": "code",
   "execution_count": null,
   "metadata": {},
   "outputs": [],
   "source": []
  },
  {
   "cell_type": "code",
   "execution_count": null,
   "metadata": {},
   "outputs": [],
   "source": []
  },
  {
   "cell_type": "code",
   "execution_count": null,
   "metadata": {},
   "outputs": [],
   "source": []
  },
  {
   "cell_type": "code",
   "execution_count": null,
   "metadata": {},
   "outputs": [],
   "source": []
  },
  {
   "cell_type": "code",
   "execution_count": null,
   "metadata": {},
   "outputs": [],
   "source": []
  },
  {
   "cell_type": "code",
   "execution_count": null,
   "metadata": {},
   "outputs": [],
   "source": []
  },
  {
   "cell_type": "code",
   "execution_count": null,
   "metadata": {},
   "outputs": [],
   "source": []
  },
  {
   "cell_type": "code",
   "execution_count": null,
   "metadata": {},
   "outputs": [],
   "source": [
    "plt.title(\"TWA+Perturbation-coupling population dynamics for a $N=192$ lattice, $B_Q$=\"+str(B_q)+\"$, C_s=$\"+str(Atom_cutoff_))\n",
    "\n",
    "plt.errorbar(tim, P0, yerr=P0error, fmt='o', capsize=5,label=\"Experimental $m_S= 0$\")\n",
    "plt.errorbar(tim, P1, yerr=P1error, fmt='o', capsize=5,label=\"Experimental $m_S=-1$\")\n",
    "plt.errorbar(tim, P2, yerr=P2error, fmt='o', capsize=5,label=\"Experimental $m_S=-2$\")\n",
    "plt.errorbar(tim, P3, yerr=P3error, fmt='o', capsize=5,label=\"Experimental $m_S=-3$\")\n",
    "\n",
    "\n",
    "\n",
    "plt.plot(tspan*28.85/0.5,P0r,\"-.\",label=\"$m_S$=\"+str(0)+\", TWA+Pert C=4\")\n",
    "plt.plot(tspan*28.85/0.5,P1r,\"-.\",label=\"$m_S$=\"+str(1)+\", TWA+Pert C=4\")\n",
    "plt.plot(tspan*28.85/0.5,P2r,\"-.\",label=\"$m_S$=\"+str(2)+\", TWA+Pert C=4\")\n",
    "plt.plot(tspan*28.85/0.5,P3r,\"-.\",label=\"$m_S$=\"+str(3)+\", TWA+Pert C=4\")\n",
    "\n",
    "\n",
    "\n",
    "plt.xlabel(\"t(ms)\",fontsize=20)\n",
    "plt.ylabel(\"$\\\\left< m_s \\\\right>$\",fontsize=20)\n",
    "#plt.ylim(0,1)\n",
    "\n",
    "plt.legend(loc=\"upper left\", bbox_to_anchor=(1,1))"
   ]
  },
  {
   "cell_type": "code",
   "execution_count": null,
   "metadata": {},
   "outputs": [],
   "source": []
  },
  {
   "cell_type": "code",
   "execution_count": null,
   "metadata": {},
   "outputs": [],
   "source": [
    "TotPopulExp=array(P0)+2*array(P1)+2*array(P2)+2*array(P3)\n",
    "TotPopulErr=array(P0error)+2*array(P1error)+2*array(P2error)+2*array(P3error)\n"
   ]
  },
  {
   "cell_type": "code",
   "execution_count": null,
   "metadata": {},
   "outputs": [],
   "source": [
    "plt.title(\"Extrapolation of the Total Experimental population dynamics for a $N=192$ lattice, $B_Q$=\"+str(B_q))\n",
    "\n",
    "plt.errorbar(tim, TotPopulExp , yerr=TotPopulErr, fmt='o', capsize=5)\n",
    "\n"
   ]
  },
  {
   "cell_type": "code",
   "execution_count": null,
   "metadata": {},
   "outputs": [],
   "source": []
  },
  {
   "cell_type": "code",
   "execution_count": null,
   "metadata": {},
   "outputs": [],
   "source": []
  }
 ],
 "metadata": {
  "kernelspec": {
   "display_name": "Python 3",
   "language": "python",
   "name": "python3"
  },
  "language_info": {
   "codemirror_mode": {
    "name": "ipython",
    "version": 3
   },
   "file_extension": ".py",
   "mimetype": "text/x-python",
   "name": "python",
   "nbconvert_exporter": "python",
   "pygments_lexer": "ipython3",
   "version": "3.8.3"
  }
 },
 "nbformat": 4,
 "nbformat_minor": 4
}
